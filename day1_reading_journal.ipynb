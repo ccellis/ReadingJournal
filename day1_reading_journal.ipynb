{
 "cells": [
  {
   "cell_type": "markdown",
   "metadata": {},
   "source": [
    "# Day 1 Reading Journal\n",
    "\n",
    "Hi everyone.  These are the exercises for the first set of readings from ThinkPython.  While this journal consists of several required exercises, it is meant to encourage active reading more generally.  You should use this journal to take detailed notes, catalog questions, and explore the content from ThinkPython deeply.\n",
    "\n",
    "For more information on using the Jupyter notebook, check out the documentation [here](http://nbviewer.jupyter.org/github/jupyter/notebook/blob/master/docs/source/examples/Notebook/Examples%20and%20Tutorials%20Index.ipynb).  Additionally, in order to write text in this document, you will be making use of markdown cells. A handy cheatsheet for markdown is available [here](https://github.com/adam-p/markdown-here/wiki/Markdown-Cheatsheet)."
   ]
  },
  {
   "cell_type": "markdown",
   "metadata": {},
   "source": [
    "## Chapter 1: The way of the program"
   ]
  },
  {
   "cell_type": "markdown",
   "metadata": {},
   "source": [
    "### 1.1: The Python programming language\n",
    "+ Python's a high level language\n",
    "+ It's portable, so it runs lots of places\n",
    "+ Python is an interpreted language\n",
    " + Can be run via command-line esque interpreter or as scripts\n",
    " \n",
    "### 1.2: What's a program?\n",
    "+ Programs made of just a few basic processes:\n",
    " - input\n",
    " - output\n",
    " - math\n",
    " - conditional execution\n",
    " - repetition\n",
    " \n",
    "### 1.3 What's debugging?\n",
    "- Three types of errors\n",
    " - Syntax errors\n",
    "  - Broken rules about the structure of the program\n",
    " - Runtime errors\n",
    "  - Something bad happened when you ran it\n",
    " - Semantic error\n",
    "  - Program runs correctly but doesn't due what you want\n",
    "\n",
    "### 1.4 Formal and natural languages\n",
    "- Programming languages are formal languages\n",
    "- Syntax rules relate to tokens (symbols you can use) and structure (the order they're in)\n",
    "\n",
    "#### Exercise 1:\n",
    "- T^e quick br_wn f%x.\n",
    "- quick fox the brown.\n",
    "\n",
    "- Formal languages lack ambiguity and redundancy, and are highly literal\n",
    "\n",
    "### 1.5: The first program"
   ]
  },
  {
   "cell_type": "code",
   "execution_count": 4,
   "metadata": {
    "collapsed": false
   },
   "outputs": [
    {
     "name": "stdout",
     "output_type": "stream",
     "text": [
      "Hello, World!\n"
     ]
    }
   ],
   "source": [
    "print 'Hello, World!'"
   ]
  },
  {
   "cell_type": "markdown",
   "metadata": {},
   "source": [
    "### 1.6: Debugging\n"
   ]
  },
  {
   "cell_type": "code",
   "execution_count": 5,
   "metadata": {
    "collapsed": false
   },
   "outputs": [
    {
     "ename": "SyntaxError",
     "evalue": "EOL while scanning string literal (<ipython-input-5-56fba3fc99e6>, line 1)",
     "output_type": "error",
     "traceback": [
      "\u001b[1;36m  File \u001b[1;32m\"<ipython-input-5-56fba3fc99e6>\"\u001b[1;36m, line \u001b[1;32m1\u001b[0m\n\u001b[1;33m    print 'Hello, World!\u001b[0m\n\u001b[1;37m                       ^\u001b[0m\n\u001b[1;31mSyntaxError\u001b[0m\u001b[1;31m:\u001b[0m EOL while scanning string literal\n"
     ]
    }
   ],
   "source": [
    "print 'Hello, World!"
   ]
  },
  {
   "cell_type": "code",
   "execution_count": 6,
   "metadata": {
    "collapsed": false
   },
   "outputs": [
    {
     "ename": "SyntaxError",
     "evalue": "invalid syntax (<ipython-input-6-ff3c0a0b19b3>, line 1)",
     "output_type": "error",
     "traceback": [
      "\u001b[1;36m  File \u001b[1;32m\"<ipython-input-6-ff3c0a0b19b3>\"\u001b[1;36m, line \u001b[1;32m1\u001b[0m\n\u001b[1;33m    print Hello, World!'\u001b[0m\n\u001b[1;37m                      ^\u001b[0m\n\u001b[1;31mSyntaxError\u001b[0m\u001b[1;31m:\u001b[0m invalid syntax\n"
     ]
    }
   ],
   "source": [
    "print Hello, World!'"
   ]
  },
  {
   "cell_type": "code",
   "execution_count": 7,
   "metadata": {
    "collapsed": false
   },
   "outputs": [
    {
     "ename": "SyntaxError",
     "evalue": "invalid syntax (<ipython-input-7-6eb4f9ddf320>, line 1)",
     "output_type": "error",
     "traceback": [
      "\u001b[1;36m  File \u001b[1;32m\"<ipython-input-7-6eb4f9ddf320>\"\u001b[1;36m, line \u001b[1;32m1\u001b[0m\n\u001b[1;33m    print Hello, World!\u001b[0m\n\u001b[1;37m                      ^\u001b[0m\n\u001b[1;31mSyntaxError\u001b[0m\u001b[1;31m:\u001b[0m invalid syntax\n"
     ]
    }
   ],
   "source": [
    "print Hello, World!"
   ]
  },
  {
   "cell_type": "code",
   "execution_count": 8,
   "metadata": {
    "collapsed": false
   },
   "outputs": [
    {
     "ename": "SyntaxError",
     "evalue": "invalid syntax (<ipython-input-8-700408ddb603>, line 1)",
     "output_type": "error",
     "traceback": [
      "\u001b[1;36m  File \u001b[1;32m\"<ipython-input-8-700408ddb603>\"\u001b[1;36m, line \u001b[1;32m1\u001b[0m\n\u001b[1;33m    prnit 'Hello, World!'\u001b[0m\n\u001b[1;37m                        ^\u001b[0m\n\u001b[1;31mSyntaxError\u001b[0m\u001b[1;31m:\u001b[0m invalid syntax\n"
     ]
    }
   ],
   "source": [
    "prnit 'Hello, World!'"
   ]
  },
  {
   "cell_type": "markdown",
   "metadata": {},
   "source": [
    "### Exercise 3"
   ]
  },
  {
   "cell_type": "code",
   "execution_count": 9,
   "metadata": {
    "collapsed": false
   },
   "outputs": [
    {
     "name": "stdout",
     "output_type": "stream",
     "text": [
      "\n",
      "Welcome to Python 2.7!  This is the online help utility.\n",
      "\n",
      "If this is your first time using Python, you should definitely check out\n",
      "the tutorial on the Internet at http://docs.python.org/2.7/tutorial/.\n",
      "\n",
      "Enter the name of any module, keyword, or topic to get help on writing\n",
      "Python programs and using Python modules.  To quit this help utility and\n",
      "return to the interpreter, just type \"quit\".\n",
      "\n",
      "To get a list of available modules, keywords, or topics, type \"modules\",\n",
      "\"keywords\", or \"topics\".  Each module also comes with a one-line summary\n",
      "of what it does; to list the modules whose summaries contain a given word\n",
      "such as \"spam\", type \"modules spam\".\n",
      "\n",
      "help> print\n",
      "The \"print\" statement\n",
      "*********************\n",
      "\n",
      "   print_stmt ::= \"print\" ([expression (\",\" expression)* [\",\"]]\n",
      "                  | \">>\" expression [(\",\" expression)+ [\",\"]])\n",
      "\n",
      "\"print\" evaluates each expression in turn and writes the resulting\n",
      "object to standard output (see below).  If an object is not a string,\n",
      "it is first converted to a string using the rules for string\n",
      "conversions.  The (resulting or original) string is then written.  A\n",
      "space is written before each object is (converted and) written, unless\n",
      "the output system believes it is positioned at the beginning of a\n",
      "line.  This is the case (1) when no characters have yet been written\n",
      "to standard output, (2) when the last character written to standard\n",
      "output is a whitespace character except \"' '\", or (3) when the last\n",
      "write operation on standard output was not a \"print\" statement. (In\n",
      "some cases it may be functional to write an empty string to standard\n",
      "output for this reason.)\n",
      "\n",
      "Note: Objects which act like file objects but which are not the\n",
      "  built-in file objects often do not properly emulate this aspect of\n",
      "  the file object's behavior, so it is best not to rely on this.\n",
      "\n",
      "A \"'\\n'\" character is written at the end, unless the \"print\" statement\n",
      "ends with a comma.  This is the only action if the statement contains\n",
      "just the keyword \"print\".\n",
      "\n",
      "Standard output is defined as the file object named \"stdout\" in the\n",
      "built-in module \"sys\".  If no such object exists, or if it does not\n",
      "have a \"write()\" method, a \"RuntimeError\" exception is raised.\n",
      "\n",
      "\"print\" also has an extended form, defined by the second portion of\n",
      "the syntax described above. This form is sometimes referred to as\n",
      "\"\"print\" chevron.\" In this form, the first expression after the \">>\"\n",
      "must evaluate to a \"file-like\" object, specifically an object that has\n",
      "a \"write()\" method as described above.  With this extended form, the\n",
      "subsequent expressions are printed to this file object.  If the first\n",
      "expression evaluates to \"None\", then \"sys.stdout\" is used as the file\n",
      "for output.\n",
      "\n",
      "help> q\n",
      "\n",
      "You are now leaving help and returning to the Python interpreter.\n",
      "If you want to ask for help on a particular object directly from the\n",
      "interpreter, you can type \"help(object)\".  Executing \"help('string')\"\n",
      "has the same effect as typing a particular string at the help> prompt.\n"
     ]
    }
   ],
   "source": [
    "help()"
   ]
  },
  {
   "cell_type": "markdown",
   "metadata": {},
   "source": [
    "### Exercise 4  \n",
    "\n",
    "Start the Python interpreter and use it as a calculator. Python’s syntax for math operations is almost the same as standard mathematical notation. For example, the symbols +, - and / denote addition, subtraction and division, as you would expect. The symbol for multiplication is *.\n",
    "\n",
    "If you run a 10 kilometer race in 43 minutes 30 seconds, what is your average time per mile? What is your average speed in miles per hour? (Hint: there are 1.61 kilometers in a mile). "
   ]
  },
  {
   "cell_type": "code",
   "execution_count": 11,
   "metadata": {
    "collapsed": false
   },
   "outputs": [
    {
     "name": "stdout",
     "output_type": "stream",
     "text": [
      "0.856714499893 average mph\n"
     ]
    }
   ],
   "source": [
    "mi = 10/16.1 #miles\n",
    "t = 43.5 / 60 #hours\n",
    "\n",
    "print str(mi/t) + \" average mph\""
   ]
  },
  {
   "cell_type": "markdown",
   "metadata": {},
   "source": [
    "## Chapter 2\n",
    "- I already know the vast majority of this from my previous Python experience, so my notes here will be a little more sparse.\n",
    "\n",
    "- State diagram: name of variable with arrow pointing to value\n",
    "- Variables should start with a lowercase letter and use underscores between words\n",
    "- Variables can't be named with Python's keywords\n",
    "- Python performs floor division when you have integers\n",
    "\n",
    "\n",
    "- Expression: combination of values, variables, and operators. Has a value.\n",
    "- Statement: a unit of code that the Python interpreter can execute"
   ]
  },
  {
   "cell_type": "code",
   "execution_count": 14,
   "metadata": {
    "collapsed": false
   },
   "outputs": [
    {
     "name": "stdout",
     "output_type": "stream",
     "text": [
      "5\n"
     ]
    },
    {
     "data": {
      "text/plain": [
       "6"
      ]
     },
     "execution_count": 14,
     "metadata": {},
     "output_type": "execute_result"
    }
   ],
   "source": [
    "#Exercise 2.1\n",
    "5\n",
    "x = 5\n",
    "print x\n",
    "x + 1"
   ]
  },
  {
   "cell_type": "markdown",
   "metadata": {},
   "source": [
    "- Use order of operations\n",
    "- You can multiply strings together"
   ]
  },
  {
   "cell_type": "code",
   "execution_count": 15,
   "metadata": {
    "collapsed": false
   },
   "outputs": [
    {
     "name": "stdout",
     "output_type": "stream",
     "text": [
      "SpamSpamSpam\n"
     ]
    }
   ],
   "source": [
    "print 'Spam'*3"
   ]
  },
  {
   "cell_type": "markdown",
   "metadata": {},
   "source": [
    "- 4 + 4 = 8, but '4' + '4' = 44\n",
    "- #comments are important"
   ]
  },
  {
   "cell_type": "markdown",
   "metadata": {},
   "source": [
    "### Exercise 2  \n",
    "\n",
    "Assume that we execute the following assignment statements:\n",
    "\n",
    "width = 17\n",
    "height = 12.0\n",
    "delimiter = '.'\n",
    "\n",
    "For each of the following expressions, write the value of the expression and the type (of the value of the expression).\n",
    "\n",
    "1. `width/2`\n",
    "2. `width/2.0`\n",
    "3. `height/3`\n",
    "4. `1 + 2 * 5`\n",
    "5. `delimiter * 5`\n",
    "\n",
    "Please use the following markdown cell to provide your answer."
   ]
  },
  {
   "cell_type": "markdown",
   "metadata": {},
   "source": [
    "1. 8 (int)\n",
    "2. 8.5 (float)\n",
    "3. 4.0 (float)\n",
    "4. 11 (int)\n",
    "5. '.....' (string)"
   ]
  },
  {
   "cell_type": "code",
   "execution_count": 17,
   "metadata": {
    "collapsed": false
   },
   "outputs": [
    {
     "name": "stdout",
     "output_type": "stream",
     "text": [
      "8\n",
      "8.5\n",
      "4.0\n",
      "11\n",
      ".....\n"
     ]
    }
   ],
   "source": [
    "width = 17\n",
    "height = 12.0\n",
    "delimiter = '.'\n",
    "\n",
    "print width/2\n",
    "print width/2.0\n",
    "print height/3\n",
    "print 1 + 2 * 5\n",
    "print delimiter * 5"
   ]
  },
  {
   "cell_type": "markdown",
   "metadata": {},
   "source": [
    "### Exercise 3  \n",
    "\n",
    "Practice using the Python interpreter as a calculator.  For each of these provide Python code that computes each answer.\n",
    "\n",
    "    \n"
   ]
  },
  {
   "cell_type": "markdown",
   "metadata": {},
   "source": [
    "The volume of a sphere with radius r is 4/3 $\\pi r^3$. What is the volume of a sphere with radius 5? Hint: 392.7 is wrong!"
   ]
  },
  {
   "cell_type": "code",
   "execution_count": 22,
   "metadata": {
    "collapsed": false
   },
   "outputs": [
    {
     "data": {
      "text/plain": [
       "523.5987755982989"
      ]
     },
     "execution_count": 22,
     "metadata": {},
     "output_type": "execute_result"
    }
   ],
   "source": [
    "import math\n",
    "4.0/3.0 * math.pi * 5**3"
   ]
  },
  {
   "cell_type": "markdown",
   "metadata": {},
   "source": [
    "Suppose the cover price of a book is \\$24.95, but bookstores get a 40% discount. Shipping costs \\$3 for the first copy and 75 cents for each additional copy. What is the total wholesale cost for 60 copies?"
   ]
  },
  {
   "cell_type": "code",
   "execution_count": 24,
   "metadata": {
    "collapsed": false
   },
   "outputs": [
    {
     "name": "stdout",
     "output_type": "stream",
     "text": [
      "$945.45\n"
     ]
    }
   ],
   "source": [
    "price = 24.95 * 0.6\n",
    "print '$' + str(price * 60 + 3 + .75*59)"
   ]
  },
  {
   "cell_type": "markdown",
   "metadata": {},
   "source": [
    "If I leave my house at 6:52 am and run 1 mile at an easy pace (8:15 per mile), then 3 miles at tempo (7:12 per mile) and 1 mile at easy pace again, what time do I get home for breakfast? "
   ]
  },
  {
   "cell_type": "code",
   "execution_count": 46,
   "metadata": {
    "collapsed": false
   },
   "outputs": [
    {
     "ename": "ValueError",
     "evalue": "cannot switch from automatic field numbering to manual field specification",
     "output_type": "error",
     "traceback": [
      "\u001b[1;31m---------------------------------------------------------------------------\u001b[0m",
      "\u001b[1;31mValueError\u001b[0m                                Traceback (most recent call last)",
      "\u001b[1;32m<ipython-input-46-fb827ccb010c>\u001b[0m in \u001b[0;36m<module>\u001b[1;34m()\u001b[0m\n\u001b[0;32m     10\u001b[0m \u001b[0mfinal_seconds\u001b[0m \u001b[1;33m=\u001b[0m \u001b[1;33m(\u001b[0m\u001b[0mint\u001b[0m\u001b[1;33m)\u001b[0m \u001b[1;33m(\u001b[0m\u001b[1;33m(\u001b[0m\u001b[0mtotal_time\u001b[0m \u001b[1;33m%\u001b[0m \u001b[1;36m1\u001b[0m\u001b[1;33m)\u001b[0m\u001b[1;33m*\u001b[0m\u001b[1;36m60\u001b[0m\u001b[1;33m)\u001b[0m\u001b[1;33m\u001b[0m\u001b[0m\n\u001b[0;32m     11\u001b[0m \u001b[1;33m\u001b[0m\u001b[0m\n\u001b[1;32m---> 12\u001b[1;33m \u001b[1;32mprint\u001b[0m \u001b[1;34m\"Return at {}:{}:{2!d}\"\u001b[0m\u001b[1;33m.\u001b[0m\u001b[0mformat\u001b[0m\u001b[1;33m(\u001b[0m\u001b[0mfinal_hour\u001b[0m\u001b[1;33m,\u001b[0m\u001b[0mfinal_minute\u001b[0m\u001b[1;33m,\u001b[0m\u001b[0mfinal_seconds\u001b[0m\u001b[1;33m)\u001b[0m\u001b[1;33m\u001b[0m\u001b[0m\n\u001b[0m",
      "\u001b[1;31mValueError\u001b[0m: cannot switch from automatic field numbering to manual field specification"
     ]
    }
   ],
   "source": [
    "easy = 8.25 #minutes/mile\n",
    "tempo = 7.2 #minutes/mile\n",
    "\n",
    "total_time = easy*2 + tempo*3 + 52 \n",
    "#assume we started at 6:00 to make math easier\n",
    "\n",
    "\n",
    "final_hour = (int) (6 + total_time//60)\n",
    "final_minute =  (int) (total_time % 60)\n",
    "final_seconds = (int) ((total_time % 1)*60)\n",
    "\n",
    "print \"Return at {}:{}:{2!d}\".format(final_hour,final_minute,final_seconds)"
   ]
  },
  {
   "cell_type": "markdown",
   "metadata": {},
   "source": [
    "## Chapter 3\n",
    "- Like with chapter 2, I already know most of this\n",
    "- Type conversion funnctions convert types (surprise surprise)"
   ]
  },
  {
   "cell_type": "code",
   "execution_count": 1,
   "metadata": {
    "collapsed": false
   },
   "outputs": [
    {
     "data": {
      "text/plain": [
       "32"
      ]
     },
     "execution_count": 1,
     "metadata": {},
     "output_type": "execute_result"
    }
   ],
   "source": [
    "int('32')"
   ]
  },
  {
   "cell_type": "code",
   "execution_count": 2,
   "metadata": {
    "collapsed": false
   },
   "outputs": [
    {
     "data": {
      "text/plain": [
       "34"
      ]
     },
     "execution_count": 2,
     "metadata": {},
     "output_type": "execute_result"
    }
   ],
   "source": [
    "int(34.7)"
   ]
  },
  {
   "cell_type": "code",
   "execution_count": 3,
   "metadata": {
    "collapsed": false
   },
   "outputs": [
    {
     "data": {
      "text/plain": [
       "54.3"
      ]
     },
     "execution_count": 3,
     "metadata": {},
     "output_type": "execute_result"
    }
   ],
   "source": [
    "float('54.3')"
   ]
  },
  {
   "cell_type": "code",
   "execution_count": 4,
   "metadata": {
    "collapsed": false
   },
   "outputs": [
    {
     "data": {
      "text/plain": [
       "2.0"
      ]
     },
     "execution_count": 4,
     "metadata": {},
     "output_type": "execute_result"
    }
   ],
   "source": [
    "float(2)"
   ]
  },
  {
   "cell_type": "code",
   "execution_count": 5,
   "metadata": {
    "collapsed": false
   },
   "outputs": [
    {
     "data": {
      "text/plain": [
       "'435'"
      ]
     },
     "execution_count": 5,
     "metadata": {},
     "output_type": "execute_result"
    }
   ],
   "source": [
    "str(435)"
   ]
  },
  {
   "cell_type": "code",
   "execution_count": 6,
   "metadata": {
    "collapsed": false
   },
   "outputs": [
    {
     "data": {
      "text/plain": [
       "'4.5'"
      ]
     },
     "execution_count": 6,
     "metadata": {},
     "output_type": "execute_result"
    }
   ],
   "source": [
    "str(4.5)"
   ]
  },
  {
   "cell_type": "markdown",
   "metadata": {},
   "source": [
    "- Use import math to get access to math functions and constants\n",
    " - Trig, square roots, pi, etc.\n",
    "- Defining functions:\n",
    " - def function_name(arguments, more_arguments():"
   ]
  },
  {
   "cell_type": "code",
   "execution_count": 8,
   "metadata": {
    "collapsed": false
   },
   "outputs": [
    {
     "name": "stdout",
     "output_type": "stream",
     "text": [
      "144\n",
      "<type 'function'>\n"
     ]
    }
   ],
   "source": [
    "def squareit(x): #\"Header\"\n",
    "    return x**2  #\"Body\"\n",
    "print squareit(12)\n",
    "\n",
    "print type(squareit #Functions create variables: function objects"
   ]
  },
  {
   "cell_type": "markdown",
   "metadata": {},
   "source": [
    "### Exercise 2"
   ]
  },
  {
   "cell_type": "code",
   "execution_count": 9,
   "metadata": {
    "collapsed": false
   },
   "outputs": [
    {
     "ename": "NameError",
     "evalue": "name 'repeat_lyrics' is not defined",
     "output_type": "error",
     "traceback": [
      "\u001b[1;31m---------------------------------------------------------------------------\u001b[0m",
      "\u001b[1;31mNameError\u001b[0m                                 Traceback (most recent call last)",
      "\u001b[1;32m<ipython-input-9-d96e9c62917c>\u001b[0m in \u001b[0;36m<module>\u001b[1;34m()\u001b[0m\n\u001b[1;32m----> 1\u001b[1;33m \u001b[0mrepeat_lyrics\u001b[0m\u001b[1;33m(\u001b[0m\u001b[1;33m)\u001b[0m\u001b[1;33m\u001b[0m\u001b[0m\n\u001b[0m\u001b[0;32m      2\u001b[0m \u001b[1;33m\u001b[0m\u001b[0m\n\u001b[0;32m      3\u001b[0m \u001b[1;32mdef\u001b[0m \u001b[0mprint_lyrics\u001b[0m\u001b[1;33m(\u001b[0m\u001b[1;33m)\u001b[0m\u001b[1;33m:\u001b[0m\u001b[1;33m\u001b[0m\u001b[0m\n\u001b[0;32m      4\u001b[0m     \u001b[1;32mprint\u001b[0m \u001b[1;34m\"I'm a lumberjack, and I'm okay.\"\u001b[0m\u001b[1;33m\u001b[0m\u001b[0m\n\u001b[0;32m      5\u001b[0m     \u001b[1;32mprint\u001b[0m \u001b[1;34m\"I sleep all night and I work all day.\"\u001b[0m\u001b[1;33m\u001b[0m\u001b[0m\n",
      "\u001b[1;31mNameError\u001b[0m: name 'repeat_lyrics' is not defined"
     ]
    }
   ],
   "source": [
    "repeat_lyrics()\n",
    "\n",
    "def print_lyrics():\n",
    "    print \"I'm a lumberjack, and I'm okay.\"\n",
    "    print \"I sleep all night and I work all day.\"\n",
    "    \n",
    "def repeat_lyrics():\n",
    "    print_lyrics()\n",
    "    print_lyrics()"
   ]
  },
  {
   "cell_type": "code",
   "execution_count": 10,
   "metadata": {
    "collapsed": false
   },
   "outputs": [
    {
     "name": "stdout",
     "output_type": "stream",
     "text": [
      "I'm a lumberjack, and I'm okay.\n",
      "I sleep all night and I work all day.\n",
      "I'm a lumberjack, and I'm okay.\n",
      "I sleep all night and I work all day.\n"
     ]
    }
   ],
   "source": [
    "def repeat_lyrics():\n",
    "    print_lyrics()\n",
    "    print_lyrics()\n",
    "\n",
    "def print_lyrics():\n",
    "    print \"I'm a lumberjack, and I'm okay.\"\n",
    "    print \"I sleep all night and I work all day.\"\n",
    "    \n",
    "repeat_lyrics()"
   ]
  },
  {
   "cell_type": "markdown",
   "metadata": {},
   "source": [
    "- Variables created in functions are local to the function"
   ]
  },
  {
   "cell_type": "code",
   "execution_count": 11,
   "metadata": {
    "collapsed": false
   },
   "outputs": [
    {
     "ename": "NameError",
     "evalue": "name 'x' is not defined",
     "output_type": "error",
     "traceback": [
      "\u001b[1;31m---------------------------------------------------------------------------\u001b[0m",
      "\u001b[1;31mNameError\u001b[0m                                 Traceback (most recent call last)",
      "\u001b[1;32m<ipython-input-11-bf7799bca854>\u001b[0m in \u001b[0;36m<module>\u001b[1;34m()\u001b[0m\n\u001b[0;32m      3\u001b[0m     \u001b[1;32mprint\u001b[0m \u001b[0mx\u001b[0m\u001b[1;33m\u001b[0m\u001b[0m\n\u001b[0;32m      4\u001b[0m \u001b[1;33m\u001b[0m\u001b[0m\n\u001b[1;32m----> 5\u001b[1;33m \u001b[1;32mprint\u001b[0m \u001b[0mx\u001b[0m\u001b[1;33m\u001b[0m\u001b[0m\n\u001b[0m",
      "\u001b[1;31mNameError\u001b[0m: name 'x' is not defined"
     ]
    }
   ],
   "source": [
    "def testytest():\n",
    "    x = 12\n",
    "    print x\n",
    "    \n",
    "print x"
   ]
  },
  {
   "cell_type": "markdown",
   "metadata": {},
   "source": [
    "- The from statement lets you import specific things"
   ]
  },
  {
   "cell_type": "code",
   "execution_count": 12,
   "metadata": {
    "collapsed": false
   },
   "outputs": [
    {
     "name": "stdout",
     "output_type": "stream",
     "text": [
      "3.14159265359\n"
     ]
    }
   ],
   "source": [
    "from math import pi\n",
    "print pi"
   ]
  },
  {
   "cell_type": "code",
   "execution_count": 14,
   "metadata": {
    "collapsed": false
   },
   "outputs": [
    {
     "data": {
      "text/plain": [
       "-1.0"
      ]
     },
     "execution_count": 14,
     "metadata": {},
     "output_type": "execute_result"
    }
   ],
   "source": [
    "from math import *\n",
    "cos(pi)"
   ]
  },
  {
   "cell_type": "markdown",
   "metadata": {},
   "source": [
    "### Exercise 3\n",
    "\n",
    "Python provides a built-in function called len that returns the length of a string, so the value of len('allen') is 5.\n",
    "Write a function named right_justify that takes a string named s as a parameter and prints the string with enough leading spaces so that the last letter of the string is in column 70 of the display.\n",
    "\n",
    "```\n",
    ">>> right_justify('allen')\n",
    "                                                                 allen```"
   ]
  },
  {
   "cell_type": "code",
   "execution_count": 16,
   "metadata": {
    "collapsed": false
   },
   "outputs": [
    {
     "name": "stdout",
     "output_type": "stream",
     "text": [
      "                                                                 allen\n"
     ]
    }
   ],
   "source": [
    "def right_justify(to_justify):\n",
    "    num_spaces = 70 - len(to_justify)\n",
    "    print ' ' * num_spaces + to_justify\n",
    "    \n",
    "right_justify('allen')"
   ]
  },
  {
   "cell_type": "markdown",
   "metadata": {},
   "source": [
    "### Exercise 4"
   ]
  },
  {
   "cell_type": "code",
   "execution_count": null,
   "metadata": {
    "collapsed": true
   },
   "outputs": [],
   "source": []
  },
  {
   "cell_type": "markdown",
   "metadata": {},
   "source": [
    "### Exercise 5\n",
    "\n",
    "This exercise can be done using only the statements and other features we have learned so far.\n",
    "\n",
    "(a) Write a function that draws a grid like the following:\n",
    "```\n",
    "+ - - - - + - - - - +\n",
    "|         |         |\n",
    "|         |         |\n",
    "|         |         |\n",
    "|         |         |\n",
    "+ - - - - + - - - - +\n",
    "|         |         |\n",
    "|         |         |\n",
    "|         |         |\n",
    "|         |         |\n",
    "+ - - - - + - - - - +\n",
    "```\n",
    "**Hint:** to print more than one value on a line, you can print a comma-separated sequence:\n",
    "print '+', '-'\n",
    "If the sequence ends with a comma, Python leaves the line unfinished, so the value printed next appears on the same line.\n",
    "print '+', \n",
    "print '-'\n",
    "The output of these statements is '+ -'.\n",
    "A print statement all by itself ends the current line and goes to the next line."
   ]
  },
  {
   "cell_type": "code",
   "execution_count": 23,
   "metadata": {
    "collapsed": false
   },
   "outputs": [
    {
     "name": "stdout",
     "output_type": "stream",
     "text": [
      "+ - - - - + - - - - +\n",
      "|         |         |\n",
      "|         |         |\n",
      "|         |         |\n",
      "|         |         |\n",
      "+ - - - - + - - - - +\n",
      "|         |         |\n",
      "|         |         |\n",
      "|         |         |\n",
      "|         |         |\n",
      "+ - - - - + - - - - +\n"
     ]
    }
   ],
   "source": [
    "def print_row(width, repeats):\n",
    "    print ('+' + ' -' * width + ' ') * repeats + '+'\n",
    "    \n",
    "def print_column(width, repeats):\n",
    "    print ('|' + '  ' * width + ' ') * repeats + '|'\n",
    "\n",
    "def print_box():\n",
    "    print_row(4,2)\n",
    "    print_column(4,2)\n",
    "    print_column(4,2)\n",
    "    print_column(4,2)\n",
    "    print_column(4,2)\n",
    "    \n",
    "def print_grid():\n",
    "    print_box()\n",
    "    print_box()\n",
    "    print_row(4,2)\n",
    "    \n",
    "\n",
    "print_grid()"
   ]
  },
  {
   "cell_type": "markdown",
   "metadata": {},
   "source": [
    "(b) Write a function that draws a similar grid with four rows and four columns."
   ]
  },
  {
   "cell_type": "code",
   "execution_count": 33,
   "metadata": {
    "collapsed": false
   },
   "outputs": [
    {
     "name": "stdout",
     "output_type": "stream",
     "text": [
      "+ - - - - + - - - - + - - - - + - - - - +\n",
      "|         |         |         |         |\n",
      "|         |         |         |         |\n",
      "|         |         |         |         |\n",
      "|         |         |         |         |\n",
      "+ - - - - + - - - - + - - - - + - - - - +\n",
      "|         |         |         |         |\n",
      "|         |         |         |         |\n",
      "|         |         |         |         |\n",
      "|         |         |         |         |\n",
      "+ - - - - + - - - - + - - - - + - - - - +\n",
      "|         |         |         |         |\n",
      "|         |         |         |         |\n",
      "|         |         |         |         |\n",
      "|         |         |         |         |\n",
      "+ - - - - + - - - - + - - - - + - - - - +\n",
      "|         |         |         |         |\n",
      "|         |         |         |         |\n",
      "|         |         |         |         |\n",
      "|         |         |         |         |\n",
      "+ - - - - + - - - - + - - - - + - - - - +\n"
     ]
    }
   ],
   "source": [
    "def row(width, repeats): #width: number of - #repeats: number of sections\n",
    "    return ('+' + ' -' * width + ' ') * repeats + '+\\n'\n",
    "\n",
    "def columns(width, repeats): #width: number of spaces #repeats: number of sections\n",
    "    return ('|' + '  ' * width + ' ') * repeats + '|\\n'\n",
    "\n",
    "def grid(square_size,side_length):\n",
    "    #square_row gives the repeatable section\n",
    "    square_row= row(side_length,square_size)+columns(side_length,square_size)*side_length\n",
    "    #grid repeats it and puts the final row on the end\n",
    "    grid = square_row*square_size+row(side_length,square_size)\n",
    "    print grid\n",
    "    \n",
    "grid(4,6)"
   ]
  },
  {
   "cell_type": "markdown",
   "metadata": {},
   "source": [
    "## Chapter 5.1 - 5.7\n",
    "- Modulus operator (%) returns the remainder\n",
    " - Can get you rightmost digits (x%10, x%100, etc)\n",
    " - Can check divisibility (x%3==0)"
   ]
  },
  {
   "cell_type": "code",
   "execution_count": 2,
   "metadata": {
    "collapsed": false
   },
   "outputs": [
    {
     "name": "stdout",
     "output_type": "stream",
     "text": [
      "3\n",
      "23\n",
      "0\n",
      "1\n"
     ]
    }
   ],
   "source": [
    "print 123%10\n",
    "print 123%100\n",
    "print 9%3\n",
    "print 7%3"
   ]
  },
  {
   "cell_type": "markdown",
   "metadata": {},
   "source": [
    "- Boolean expressions use operators to check for True or False\n",
    " - ==\n",
    " - !=\n",
    " - >\n",
    " - <\n",
    " - \\>=\n",
    " - <="
   ]
  },
  {
   "cell_type": "code",
   "execution_count": 3,
   "metadata": {
    "collapsed": false
   },
   "outputs": [
    {
     "name": "stdout",
     "output_type": "stream",
     "text": [
      "False\n",
      "True\n",
      "False\n",
      "True\n"
     ]
    }
   ],
   "source": [
    "x = 12\n",
    "y = 13\n",
    "\n",
    "print x == y\n",
    "print x < y\n",
    "print x > y\n",
    "print x != y"
   ]
  },
  {
   "cell_type": "markdown",
   "metadata": {},
   "source": [
    "- logical operators\n",
    " - or\n",
    " - and\n",
    " - not"
   ]
  },
  {
   "cell_type": "code",
   "execution_count": 6,
   "metadata": {
    "collapsed": false
   },
   "outputs": [
    {
     "name": "stdout",
     "output_type": "stream",
     "text": [
      "True\n",
      "False\n",
      "True\n",
      "True\n"
     ]
    }
   ],
   "source": [
    "x = 12\n",
    "y = 13\n",
    "z = 12\n",
    "\n",
    "print x == y or x == z\n",
    "print x == y and x == z\n",
    "print not (x == y)\n",
    "\n",
    "print 17 and True #Any nonzero number is True"
   ]
  },
  {
   "cell_type": "markdown",
   "metadata": {},
   "source": [
    "- if statements have a conditional statement\n",
    " - doesn't always need a logical operator in condition\n",
    " - body always needs at least one line"
   ]
  },
  {
   "cell_type": "code",
   "execution_count": 8,
   "metadata": {
    "collapsed": false
   },
   "outputs": [
    {
     "name": "stdout",
     "output_type": "stream",
     "text": [
      "First\n",
      "Second\n"
     ]
    }
   ],
   "source": [
    "x = 5\n",
    "\n",
    "if x > 3:\n",
    "    print 'First'\n",
    "\n",
    "if x:\n",
    "    print 'Second'\n",
    "\n",
    "if x > 1:\n",
    "    pass #Does nothing!"
   ]
  },
  {
   "cell_type": "code",
   "execution_count": 11,
   "metadata": {
    "collapsed": false
   },
   "outputs": [
    {
     "name": "stdout",
     "output_type": "stream",
     "text": [
      "First\n"
     ]
    }
   ],
   "source": [
    "#Else statements!\n",
    "x = 5\n",
    "if x < 3:\n",
    "    print 'First'\n",
    "else: #Don't forget else needs a : too\n",
    "    print 'Nope'"
   ]
  },
  {
   "cell_type": "code",
   "execution_count": 13,
   "metadata": {
    "collapsed": false
   },
   "outputs": [
    {
     "name": "stdout",
     "output_type": "stream",
     "text": [
      "x is greater than y\n"
     ]
    }
   ],
   "source": [
    "#Else-if statements\n",
    "x = 3\n",
    "y = 2\n",
    "\n",
    "if x < y:\n",
    "    print 'x is less than y'\n",
    "elif x > y:\n",
    "    print 'x is greater than y'\n",
    "else: #Don't always need an else statement, but if there is one it's last\n",
    "    print 'x is equal to y'"
   ]
  },
  {
   "cell_type": "code",
   "execution_count": 14,
   "metadata": {
    "collapsed": false
   },
   "outputs": [
    {
     "name": "stdout",
     "output_type": "stream",
     "text": [
      "x is greater than y\n"
     ]
    }
   ],
   "source": [
    "#You can nest conditionals\n",
    "x = 3\n",
    "y = 2\n",
    "if x == y:\n",
    "    print 'x and y are equal'\n",
    "else:\n",
    "    if x > y:\n",
    "        print 'x is greater than y'\n",
    "    else:\n",
    "        print 'x is less than y'"
   ]
  },
  {
   "cell_type": "markdown",
   "metadata": {},
   "source": [
    "- You can get text input using the raw_input() function\n",
    " - Then convert it to numbers"
   ]
  },
  {
   "cell_type": "code",
   "execution_count": 15,
   "metadata": {
    "collapsed": false
   },
   "outputs": [
    {
     "name": "stdout",
     "output_type": "stream",
     "text": [
      "What's your favorite number?\n",
      "42\n",
      "1764 is it squared\n"
     ]
    }
   ],
   "source": [
    "number = raw_input(\"What's your favorite number?\\n\")\n",
    "number = int(number)\n",
    "squared = number**2\n",
    "\n",
    "print str(squared) + \" is your favorite number squared\""
   ]
  },
  {
   "cell_type": "markdown",
   "metadata": {},
   "source": [
    "### Exercise 3  \n",
    "\n",
    "Fermat’s Last Theorem says that there are no positive integers a, b, and c such that $a^n + b^n = c^n$ for any values of n greater than 2.\n",
    "\n",
    "(a) Write a function named `check_fermat` that takes four parameters—a, b, c and n—and that checks to see if Fermat’s theorem holds. If n is greater than 2 and it turns out to be true that\n",
    "$a^n + b^n = c^n$ the program should print, \"Holy smokes, Fermat was wrong!\" Otherwise the program should print, \"No, that doesn’t work.\""
   ]
  },
  {
   "cell_type": "code",
   "execution_count": 1,
   "metadata": {
    "collapsed": false
   },
   "outputs": [
    {
     "name": "stdout",
     "output_type": "stream",
     "text": [
      "No, that doesn't work.\n"
     ]
    }
   ],
   "source": [
    "def check_fermat(a, b, c, n):\n",
    "    if a**n + b**n == c**n and n>2:\n",
    "        print \"Holy smokes, Fermat was wrong!\"\n",
    "    else:\n",
    "        print \"No, that doesn't work.\"\n",
    "\n",
    "check_fermat(2,3,4,3)"
   ]
  },
  {
   "cell_type": "markdown",
   "metadata": {},
   "source": [
    "(b) Write a function that prompts the user to input values for a, b, c and n, converts them to integers, and uses check_fermat to check whether they violate Fermat’s theorem."
   ]
  },
  {
   "cell_type": "code",
   "execution_count": 2,
   "metadata": {
    "collapsed": false
   },
   "outputs": [
    {
     "name": "stdout",
     "output_type": "stream",
     "text": [
      "We're testing Fermat's Last Theorem\n",
      "Gimme a number for a\n",
      "2\n",
      "And a number for b\n",
      "3\n",
      "A number for c...\n",
      "4\n",
      "And a number for n.\n",
      "4\n",
      "Nope, that doesn't work.\n"
     ]
    }
   ],
   "source": [
    "def check_fermat(a, b, c, n):\n",
    "    if a**n + b**n == c**n and n>2:\n",
    "        print \"Holy smokes, Fermat was wrong!\"\n",
    "    else:\n",
    "        print \"Nope, that doesn't work.\"\n",
    "\n",
    "print \"We're testing Fermat's Last Theorem\"\n",
    "a = raw_input(\"Gimme a number for a\\n\")\n",
    "b = raw_input(\"And a number for b\\n\")\n",
    "c = raw_input(\"A number for c...\\n\")\n",
    "n = raw_input(\"And a number for n.\\n\")\n",
    "check_fermat(int(a), int(b), int(c), int(n))"
   ]
  },
  {
   "cell_type": "markdown",
   "metadata": {},
   "source": [
    "### Exercise 4  \n",
    "\n",
    "If you are given three sticks, you may or may not be able to arrange them in a triangle. For example, if one of the sticks is 12 inches long and the other two are one inch long, it is clear that you will not be able to get the short sticks to meet in the middle. For any three lengths, there is a simple test to see if it is possible to form a triangle:\n",
    "> If any of the three lengths is greater than the sum of the other two, then you cannot form a triangle. Otherwise, you can. (If the sum of two lengths equals the third, they form what is called a “degenerate” triangle.)\n",
    "\n",
    "(a) Write a function named `is_triangle` that takes three integers as arguments, and that prints either \"Yes\" or \"No,\" depending on whether you can or cannot form a triangle from sticks with the given lengths."
   ]
  },
  {
   "cell_type": "code",
   "execution_count": 30,
   "metadata": {
    "collapsed": false
   },
   "outputs": [
    {
     "name": "stdout",
     "output_type": "stream",
     "text": [
      "Yes\n",
      "No\n"
     ]
    }
   ],
   "source": [
    "def is_triangle(a,b,c):\n",
    "    if a < b+c and b < a+c and c < a+b:\n",
    "        print \"Yes\"\n",
    "    else:\n",
    "        print \"No\"\n",
    "\n",
    "is_triangle(3,4,5)\n",
    "is_triangle(15,4,5)"
   ]
  },
  {
   "cell_type": "markdown",
   "metadata": {},
   "source": [
    "(b) Write a function that prompts the user to input three stick lengths, converts them to integers, and uses is_triangle to check whether sticks with the given lengths can form a triangle."
   ]
  },
  {
   "cell_type": "code",
   "execution_count": 3,
   "metadata": {
    "collapsed": false
   },
   "outputs": [
    {
     "name": "stdout",
     "output_type": "stream",
     "text": [
      "Let's see if three numbers make a triangle\n",
      "Give me one value\n",
      "3\n",
      "And another\n",
      "4\n",
      "And one more\n",
      "9\n",
      "Nope, that doesn't make a triangle\n"
     ]
    }
   ],
   "source": [
    "def is_triangle(a,b,c):\n",
    "    if a < b+c and b < a+c and c < a+b:\n",
    "        print \"Yep, that's a triangle\"\n",
    "    else:\n",
    "        print \"Nope, that doesn't make a triangle\"\n",
    "        \n",
    "print \"Let's see if three numbers make a triangle\"\n",
    "a = int(raw_input(\"Give me one value\\n\"))\n",
    "b = int(raw_input(\"And another\\n\"))\n",
    "c = int(raw_input(\"And one more\\n\"))\n",
    "is_triangle(a,b,c)\n",
    "#There are lots of inputs that can be passed that will make this fail.\n",
    "#Like negative numbers, or floats."
   ]
  },
  {
   "cell_type": "markdown",
   "metadata": {},
   "source": [
    "## Notes for the Instructors\n",
    "\n",
    "Please use the space below to write comments to help us plan the next class session.  For instance, if you want to see us go over an example of a particular type of problem, you can indicate that here.\n",
    "\n",
    "Please remember that the best way to get quick feedback from the instructors as well as your peers, is to use Piazza.  However, consider using this channel if it doesn't make sense to post your note to Piazza."
   ]
  },
  {
   "cell_type": "markdown",
   "metadata": {},
   "source": []
  }
 ],
 "metadata": {
  "kernelspec": {
   "display_name": "Python 2",
   "language": "python",
   "name": "python2"
  },
  "language_info": {
   "codemirror_mode": {
    "name": "ipython",
    "version": 2
   },
   "file_extension": ".py",
   "mimetype": "text/x-python",
   "name": "python",
   "nbconvert_exporter": "python",
   "pygments_lexer": "ipython2",
   "version": "2.7.11"
  }
 },
 "nbformat": 4,
 "nbformat_minor": 0
}
