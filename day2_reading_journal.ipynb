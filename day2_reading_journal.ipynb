{
 "cells": [
  {
   "cell_type": "markdown",
   "metadata": {},
   "source": [
    "# Day 2 Reading Journal\n",
    "\n",
    "This journal includes several required exercises, but it is meant to encourage active reading more generally.  You should use the journal to take detailed notes, catalog questions, and explore the content from Think Python deeply.\n",
    "\n",
    "Reading: Think Python Chapter 6.1-6.4, 7\n",
    "\n",
    "**Due: Thursday, January 28 at 12 noon**\n",
    "\n"
   ]
  },
  {
   "cell_type": "markdown",
   "metadata": {},
   "source": [
    "## [Chapter 6.1-6.4](http://www.greenteapress.com/thinkpython/html/thinkpython007.html)\n",
    "\n",
    "Note: the exercise numbers below match up with the reading for ease of cross referencing."
   ]
  },
  {
   "cell_type": "markdown",
   "metadata": {},
   "source": [
    "**Quick check:** What is a _fruitful function_?\n",
    "- A function that returns something\n",
    "- A function that returns something should _always_ execute a return statement. Make sure all branches of conditional statements eventually result in a return"
   ]
  },
  {
   "cell_type": "markdown",
   "metadata": {},
   "source": [
    " "
   ]
  },
  {
   "cell_type": "markdown",
   "metadata": {},
   "source": [
    "### Exercise 1  \n",
    "Write a `compare` function that returns `1` if `x > y`, `0` if `x == y`, and `-1` if `x < y`."
   ]
  },
  {
   "cell_type": "code",
   "execution_count": 3,
   "metadata": {
    "collapsed": false
   },
   "outputs": [
    {
     "name": "stdout",
     "output_type": "stream",
     "text": [
      "1\n",
      "-1\n",
      "0\n"
     ]
    }
   ],
   "source": [
    "def compare(x,y):\n",
    "    if x > y:\n",
    "        return 1\n",
    "    elif x == y:\n",
    "        return 0\n",
    "    else:\n",
    "        return -1\n",
    "\n",
    "print compare(1,0)\n",
    "print compare(0,1)\n",
    "print compare(0,0)"
   ]
  },
  {
   "cell_type": "markdown",
   "metadata": {},
   "source": [
    "**Quick check:** Modify the `absolute_value` function so that it returns the correct result for all integer inputs."
   ]
  },
  {
   "cell_type": "code",
   "execution_count": 4,
   "metadata": {
    "collapsed": false
   },
   "outputs": [
    {
     "name": "stdout",
     "output_type": "stream",
     "text": [
      "10\n",
      "10\n",
      "0\n"
     ]
    }
   ],
   "source": [
    "def absolute_value(x):\n",
    "    if x < 0:\n",
    "        return -x\n",
    "    else:\n",
    "        return x\n",
    "print absolute_value(10)\n",
    "print absolute_value(-10)\n",
    "print absolute_value(0)"
   ]
  },
  {
   "cell_type": "markdown",
   "metadata": {},
   "source": [
    "### Exercise 2  \n",
    "Use incremental development to write a function called `hypotenuse` that returns the length of the hypotenuse of a right triangle given the lengths of the two legs as arguments. Record each stage of the development process as you go, using as many cells as you need."
   ]
  },
  {
   "cell_type": "code",
   "execution_count": 7,
   "metadata": {
    "collapsed": false
   },
   "outputs": [
    {
     "data": {
      "text/plain": [
       "0.0"
      ]
     },
     "execution_count": 7,
     "metadata": {},
     "output_type": "execute_result"
    }
   ],
   "source": [
    "def hypotenuse(a,b):\n",
    "    return 0.0\n",
    "\n",
    "hypotenuse(3,4)"
   ]
  },
  {
   "cell_type": "code",
   "execution_count": 8,
   "metadata": {
    "collapsed": false
   },
   "outputs": [
    {
     "name": "stdout",
     "output_type": "stream",
     "text": [
      "a squared is 9\n",
      "b squared is 16\n"
     ]
    },
    {
     "data": {
      "text/plain": [
       "0.0"
      ]
     },
     "execution_count": 8,
     "metadata": {},
     "output_type": "execute_result"
    }
   ],
   "source": [
    "def hypotenuse(a,b):\n",
    "    a2 = a**2\n",
    "    b2 = b**2\n",
    "    print \"a squared is\",a2\n",
    "    print \"b squared is\",b2\n",
    "    return 0.0\n",
    "\n",
    "hypotenuse(3,4)"
   ]
  },
  {
   "cell_type": "code",
   "execution_count": 9,
   "metadata": {
    "collapsed": false
   },
   "outputs": [
    {
     "name": "stdout",
     "output_type": "stream",
     "text": [
      "c squared is 25\n"
     ]
    },
    {
     "data": {
      "text/plain": [
       "0.0"
      ]
     },
     "execution_count": 9,
     "metadata": {},
     "output_type": "execute_result"
    }
   ],
   "source": [
    "def hypotenuse(a,b):\n",
    "    a2 = a**2\n",
    "    b2 = b**2\n",
    "    c2 = a2 + b2\n",
    "    print \"c squared is\",c2\n",
    "    return 0.0\n",
    "\n",
    "hypotenuse(3,4)"
   ]
  },
  {
   "cell_type": "code",
   "execution_count": 10,
   "metadata": {
    "collapsed": false
   },
   "outputs": [
    {
     "data": {
      "text/plain": [
       "5.0"
      ]
     },
     "execution_count": 10,
     "metadata": {},
     "output_type": "execute_result"
    }
   ],
   "source": [
    "from math import sqrt\n",
    "\n",
    "def hypotenuse(a,b):\n",
    "    a2 = a**2\n",
    "    b2 = b**2\n",
    "    c2 = a2 + b2\n",
    "    c = sqrt(c2)\n",
    "    return c\n",
    "\n",
    "hypotenuse(3,4)"
   ]
  },
  {
   "cell_type": "code",
   "execution_count": 11,
   "metadata": {
    "collapsed": false
   },
   "outputs": [
    {
     "data": {
      "text/plain": [
       "5.0"
      ]
     },
     "execution_count": 11,
     "metadata": {},
     "output_type": "execute_result"
    }
   ],
   "source": [
    "from math import sqrt\n",
    "\n",
    "def hypotenuse(a,b):\n",
    "    c2 = a**2 + b**2\n",
    "    c = sqrt(c2)\n",
    "    return c\n",
    "\n",
    "hypotenuse(3,4)"
   ]
  },
  {
   "cell_type": "code",
   "execution_count": 13,
   "metadata": {
    "collapsed": false
   },
   "outputs": [
    {
     "data": {
      "text/plain": [
       "5.0"
      ]
     },
     "execution_count": 13,
     "metadata": {},
     "output_type": "execute_result"
    }
   ],
   "source": [
    "from math import sqrt\n",
    "\n",
    "def hypotenuse(a,b):\n",
    "    c2 = a**2 + b**2\n",
    "    return sqrt(c2)\n",
    "\n",
    "hypotenuse(3,4)"
   ]
  },
  {
   "cell_type": "markdown",
   "metadata": {},
   "source": [
    "### Exercise 3  \n",
    "Write a function `is_between(x, y, z)` that returns `True` if `x ≤ y ≤ z` or `False` otherwise."
   ]
  },
  {
   "cell_type": "code",
   "execution_count": 15,
   "metadata": {
    "collapsed": false
   },
   "outputs": [
    {
     "name": "stdout",
     "output_type": "stream",
     "text": [
      "True\n",
      "True\n",
      "False\n",
      "False\n"
     ]
    }
   ],
   "source": [
    "def is_between(x,y,z):\n",
    "    if x <= y and y <= z:\n",
    "        return True\n",
    "    else:\n",
    "        return False\n",
    "    \n",
    "print is_between(2,3,4)\n",
    "print is_between(2.1,2.2,2.3)\n",
    "print is_between(3,2,3)\n",
    "print is_between(3,2,1)"
   ]
  },
  {
   "cell_type": "markdown",
   "metadata": {},
   "source": [
    "## [Chapter 7](http://www.greenteapress.com/thinkpython/html/thinkpython008.html)\n",
    "\n"
   ]
  },
  {
   "cell_type": "markdown",
   "metadata": {},
   "source": [
    "**Quick check:** How do you test for equality in Python?\n",
    " - x==y"
   ]
  },
  {
   "cell_type": "markdown",
   "metadata": {},
   "source": [
    " "
   ]
  },
  {
   "cell_type": "markdown",
   "metadata": {},
   "source": [
    "**Challenge:** Prove/disprove the Collatz conjecture :)"
   ]
  },
  {
   "cell_type": "markdown",
   "metadata": {},
   "source": [
    "- While loop syntax:"
   ]
  },
  {
   "cell_type": "code",
   "execution_count": 17,
   "metadata": {
    "collapsed": false
   },
   "outputs": [
    {
     "name": "stdout",
     "output_type": "stream",
     "text": [
      "5\n",
      "4\n",
      "3\n",
      "2\n",
      "1\n"
     ]
    }
   ],
   "source": [
    "x = 5\n",
    "while x > 0:\n",
    "    print x\n",
    "    x -= 1"
   ]
  },
  {
   "cell_type": "code",
   "execution_count": 18,
   "metadata": {
    "collapsed": false
   },
   "outputs": [
    {
     "name": "stdout",
     "output_type": "stream",
     "text": [
      "> not done\n",
      "not done\n",
      "> not done\n",
      "not done\n",
      "> not done\n",
      "not done\n",
      "> done\n",
      "Done!\n"
     ]
    }
   ],
   "source": [
    "#A use for an \"unending\" loop and an illustration of break\n",
    "while True:\n",
    "    line = raw_input('> ')\n",
    "    if line == 'done':\n",
    "        break\n",
    "    print line\n",
    "\n",
    "print 'Done!'"
   ]
  },
  {
   "cell_type": "markdown",
   "metadata": {},
   "source": [
    "### Exercise 2  \n",
    "Encapsulate the loop from Section 7.5 in a function called `square_root` that takes `a` as a parameter, chooses a reasonable value of `x`, and returns an estimate of the square root of `a`."
   ]
  },
  {
   "cell_type": "code",
   "execution_count": 30,
   "metadata": {
    "collapsed": false
   },
   "outputs": [
    {
     "data": {
      "text/plain": [
       "1.414213562373095"
      ]
     },
     "execution_count": 30,
     "metadata": {},
     "output_type": "execute_result"
    }
   ],
   "source": [
    "def square_root(a):\n",
    "    x = a/2.0 #define an initial guess for the square root\n",
    "    epsilon = 0.0000001\n",
    "    \n",
    "    y = (x + a/x) / 2 #find a more accurate guess\n",
    "    while abs(x-y) > epsilon: #make it more accurate\n",
    "        x = y\n",
    "        y = (x + a/x) / 2\n",
    "    return y\n",
    "\n",
    "square_root(2)"
   ]
  },
  {
   "cell_type": "markdown",
   "metadata": {},
   "source": [
    "### Exercise 3  \n",
    "To test the square root algorithm you developed in Exercise 2, you could compare it with Python's `math.sqrt` function. Write a function named `test_square_root` that prints a table like this:\n",
    "\n",
    "```python\n",
    "1.0 1.0           1.0           0.0\n",
    "2.0 1.41421356237 1.41421356237 2.22044604925e-16\n",
    "3.0 1.73205080757 1.73205080757 0.0\n",
    "4.0 2.0           2.0           0.0\n",
    "5.0 2.2360679775  2.2360679775  0.0\n",
    "6.0 2.44948974278 2.44948974278 0.0\n",
    "7.0 2.64575131106 2.64575131106 0.0\n",
    "8.0 2.82842712475 2.82842712475 4.4408920985e-16\n",
    "9.0 3.0           3.0           0.0\n",
    "```\n",
    "\n",
    "The first column is a number, `a`; the second column is the square root of a computed with the function from Section 7.5; the third column is the square root computed by `math.sqrt`; the fourth column is the absolute value of the difference between the two estimates."
   ]
  },
  {
   "cell_type": "code",
   "execution_count": 49,
   "metadata": {
    "collapsed": false
   },
   "outputs": [
    {
     "name": "stdout",
     "output_type": "stream",
     "text": [
      "1.0|1.0          |1.0          |0.0\n",
      "-------------------------------------------------\n",
      "2.0|1.41421356237|1.41421356237|2.22044604925e-16\n",
      "-------------------------------------------------\n",
      "3.0|1.73205080757|1.73205080757|0.0\n",
      "-------------------------------------------------\n",
      "4.0|2.0          |2.0          |0.0\n",
      "-------------------------------------------------\n",
      "5.0|2.2360679775 |2.2360679775 |0.0\n",
      "-------------------------------------------------\n",
      "6.0|2.44948974278|2.44948974278|0.0\n",
      "-------------------------------------------------\n",
      "7.0|2.64575131106|2.64575131106|0.0\n",
      "-------------------------------------------------\n",
      "8.0|2.82842712475|2.82842712475|4.4408920985e-16\n",
      "-------------------------------------------------\n",
      "9.0|3.0          |3.0          |0.0\n",
      "-------------------------------------------------\n"
     ]
    }
   ],
   "source": [
    "from math import sqrt\n",
    "\n",
    "def square_root(a):\n",
    "    x = a/2.0 #define an initial guess for the square root\n",
    "    epsilon = 0.00000001\n",
    "    \n",
    "    y = (x + a/x) / 2 #find a more accurate guess\n",
    "    while abs(x-y) > epsilon: #make it more accurate\n",
    "        x = y\n",
    "        y = (x + a/x) / 2\n",
    "    return y\n",
    "\n",
    "def format_table_row(a,b,c,d):\n",
    "    a += 0.0\n",
    "    b = str(b)\n",
    "    c = str(c)\n",
    "    if len(b) < 13:\n",
    "        b = b + ' '*(13-len(b))\n",
    "    if len(c) < 13:\n",
    "        c = c + ' '*(13-len(c))\n",
    "    return \"{}|{}|{}|{}\".format(a,b,c,d)\n",
    "\n",
    "def test_square_root():\n",
    "    for a in range(1,10):\n",
    "        my_square_root = square_root(a)\n",
    "        actual_square_root = sqrt(a)\n",
    "        difference = abs(my_square_root-actual_square_root)\n",
    "        print format_table_row(a,my_square_root,actual_square_root,difference)\n",
    "        print '-'*49\n",
    "        \n",
    "test_square_root()"
   ]
  },
  {
   "cell_type": "markdown",
   "metadata": {},
   "source": [
    "### Challenge: Exercise 5  (optional)\n",
    "The mathematician Srinivasa Ramanujan found an infinite series that can be used to generate a numerical approximation of\n",
    "$\\frac{1}{\\pi}$:\n",
    "\n",
    "$$\\frac{1}{\\pi} = \\frac{2 \\sqrt{2}}{9801} \\sum_{k=0}^{\\infty} \\frac{(4k)! (1103+26390k)}{(k!)^4 396^{4k}}$$\n",
    " \n",
    "Write a function called `estimate_pi` that uses this formula to compute and return an estimate of $\\pi$. It should use a `while` loop to compute terms of the summation until the last term is smaller than `1e-15` (which is Python notation for $10^{−15}$). You can check the result by comparing it to `math.pi`.\n",
    "\n",
    "[Possible solution](http://thinkpython.com/code/pi.py) (give the exercise a try before viewing the solution)"
   ]
  },
  {
   "cell_type": "code",
   "execution_count": 67,
   "metadata": {
    "collapsed": false
   },
   "outputs": [
    {
     "name": "stdout",
     "output_type": "stream",
     "text": [
      "0.318309886184\n",
      "0.318309886184\n"
     ]
    }
   ],
   "source": [
    "from math import factorial as fac\n",
    "from math import sqrt\n",
    "from math import pi\n",
    "\n",
    "def estimate_pi():\n",
    "    k = 0.0\n",
    "    term = fac(4*k)*(1103+26390*k)/(fac(k)**4 * 396**(4*k))\n",
    "    summation = term\n",
    "    \n",
    "    while term > 1e-15:\n",
    "        k += 1\n",
    "        term = fac(4*k)*(1103+26390*k)/(fac(k)**4 * 396**(4*k))\n",
    "        summation += term\n",
    "    \n",
    "    answer = summation * 2 * sqrt(2) / 9801\n",
    "    return answer\n",
    "\n",
    "print estimate_pi()\n",
    "print 1.0/pi"
   ]
  },
  {
   "cell_type": "markdown",
   "metadata": {},
   "source": [
    "## Reading Journal feedback\n",
    "\n",
    "Have any comments on this Reading Journal? Feel free to leave them below and we'll read them when you submit your journal entry. This could include suggestions to improve the exercises, topics you'd like to see covered in class next time, or other feedback.\n",
    "\n",
    "If you have Python questions or run into problems while completing the reading, you should post them to Piazza instead so you can get a quick response before your journal is submitted."
   ]
  },
  {
   "cell_type": "markdown",
   "metadata": {},
   "source": [
    " "
   ]
  }
 ],
 "metadata": {
  "kernelspec": {
   "display_name": "Python 2",
   "language": "python",
   "name": "python2"
  },
  "language_info": {
   "codemirror_mode": {
    "name": "ipython",
    "version": 2
   },
   "file_extension": ".py",
   "mimetype": "text/x-python",
   "name": "python",
   "nbconvert_exporter": "python",
   "pygments_lexer": "ipython2",
   "version": "2.7.11"
  }
 },
 "nbformat": 4,
 "nbformat_minor": 0
}
