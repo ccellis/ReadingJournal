{
 "cells": [
  {
   "cell_type": "markdown",
   "metadata": {},
   "source": [
    "# Day 7 Reading Journal\n",
    "\n",
    "This journal includes several required exercises, but it is meant to encourage active reading more generally.  You should use the journal to take detailed notes, catalog questions, and explore the content from Think Python deeply.\n",
    "\n",
    "Reading: Think Python Chapter 11, 12\n",
    "\n",
    "**Due: Thursday, February 18 at 12 noon**\n",
    "\n"
   ]
  },
  {
   "cell_type": "markdown",
   "metadata": {},
   "source": [
    "## [Chapter 11](http://www.greenteapress.com/thinkpython/html/thinkpython012.html)\n"
   ]
  },
  {
   "cell_type": "markdown",
   "metadata": {},
   "source": [
    "**Quick check:** In about one sentence using your own words, what is a dictionary?"
   ]
  },
  {
   "cell_type": "markdown",
   "metadata": {},
   "source": [
    "- A dictionary is a data structure that maps keys onto values/objects."
   ]
  },
  {
   "cell_type": "code",
   "execution_count": null,
   "metadata": {
    "collapsed": true
   },
   "outputs": [],
   "source": [
    "#To start a dictionary, do this:\n",
    "mydict = dict()\n",
    "print \"This is an empty dictionary:\", mydict\n",
    "\n",
    "#To add stuff, do this:\n",
    "mydict['delicious'] = 'food'\n",
    "print mydict\n",
    "\n",
    "#Or this:\n",
    "mydict = {'delicious':'food','disgusting':'soap'}\n",
    "print mydict #The printed order is random\n",
    "\n",
    "#To access stuff, use the keys\n",
    "print mydict['delicious']\n",
    "\n",
    "len(mydict) #number of key-value pairs\n",
    "print 'delicious' in mydict #you can find keys with in\n",
    "print 'food' in mydict      #but not values\n",
    "\n",
    "#To find values, use the values function\n",
    "print 'food' in mydict.values()"
   ]
  },
  {
   "cell_type": "markdown",
   "metadata": {
    "is_question": true,
    "problem": "Exercise 11.2"
   },
   "source": [
    "### Exercise 2  \n",
    "\n",
    "Dictionaries have a [method called `get`](https://docs.python.org/2/library/stdtypes.html#mapping-types-dict) that takes a key and a default value. If the key appears in the dictionary, `get` returns the corresponding value; otherwise it returns the default value. For example:\n",
    "\n",
    "```\n",
    ">>> h = histogram('a')\n",
    ">>> print h\n",
    "{'a': 1}\n",
    ">>> h.get('a', 0)\n",
    "1\n",
    ">>> h.get('b', 0)\n",
    "0\n",
    "```\n",
    "\n",
    "Use `get` to write `histogram` more concisely. You should be able to eliminate the `if` statement. Add unit tests for your histogram implementation."
   ]
  },
  {
   "cell_type": "code",
   "execution_count": 2,
   "metadata": {
    "collapsed": false,
    "solution": "Exercise 11.2"
   },
   "outputs": [],
   "source": [
    "def histogram(s):\n",
    "    d = dict()\n",
    "    for c in s:\n",
    "        if c not in d:\n",
    "            d[c] = 1\n",
    "        else:\n",
    "            d[c] += 1\n",
    "    return d\n",
    "\n",
    "def better_histogram(s):\n",
    "    \"\"\"\n",
    "    Takes in a string s, returns a dictionary whose keys are the letters\n",
    "    that appear in s, and whose values are the frequency of those letters\n",
    "    \n",
    "    Doctests are hard because dictionaries are random. But let's try this\n",
    "    >>> better_histogram('aaaa')['a']\n",
    "    4\n",
    "    >>> better_histogram('boogeyman')['g']\n",
    "    1\n",
    "    \"\"\"\n",
    "    d = dict()\n",
    "    for letter in s:\n",
    "        d[letter] = d.get(letter,0) + 1\n",
    "    return d\n",
    "\n",
    "import doctest\n",
    "doctest.run_docstring_examples(better_histogram, globals())"
   ]
  },
  {
   "cell_type": "code",
   "execution_count": 11,
   "metadata": {
    "collapsed": false
   },
   "outputs": [
    {
     "name": "stdout",
     "output_type": "stream",
     "text": [
      "a 2\n",
      "c 1\n",
      "i 1\n",
      "h 1\n",
      "l 1\n",
      "o 1\n",
      "n 1\n",
      "p 1\n",
      "s 3\n",
      "y 2\n"
     ]
    }
   ],
   "source": [
    "#functions traverse the keys of a dictionary\n",
    "h = histogram('psychoanalysis')\n",
    "for key in h:\n",
    "    print key, h[key]"
   ]
  },
  {
   "cell_type": "markdown",
   "metadata": {
    "is_question": true,
    "problem": "Exercise 11.4"
   },
   "source": [
    "### Exercise 4  \n",
    "\n",
    "Modify `reverse_lookup` so that it builds and returns a list of all keys that map to `v`, or an empty list if there are none. Add unit tests for your implementation."
   ]
  },
  {
   "cell_type": "code",
   "execution_count": 16,
   "metadata": {
    "collapsed": false,
    "solution": "Exercise 11.4"
   },
   "outputs": [
    {
     "name": "stdout",
     "output_type": "stream",
     "text": [
      "['a', 'y']\n"
     ]
    }
   ],
   "source": [
    "def reverse_lookup(d, v):\n",
    "    for k in d:\n",
    "        if d[k] == v:\n",
    "            return k\n",
    "    raise ValueError #This throws an error if v isn't a value in d\n",
    "    \n",
    "def list_reverse_lookup(dictionary, value):\n",
    "    \"\"\"\n",
    "    Takes in a dictionary and a value, returns all keys that map to that\n",
    "    value in a list. If there are none, return an empty list.\n",
    "    \"\"\"\n",
    "    values = []\n",
    "    for key in dictionary:\n",
    "        if dictionary[key] == value:\n",
    "            values.append(key)\n",
    "    return values\n",
    "\n",
    "h = better_histogram('psychoanalysis')\n",
    "print list_reverse_lookup(h,2)"
   ]
  },
  {
   "cell_type": "markdown",
   "metadata": {},
   "source": [
    "If you'd like to learn more about errors and exceptions, you can check out the [Python tutorial](https://docs.python.org/2/tutorial/errors.html) or read ahead to [Appendix A](http://www.greenteapress.com/thinkpython/html/thinkpython021.html) of Think Python. If you choose to use doctest for your unit testing, it can also [deal with exceptions](https://docs.python.org/2/library/doctest.html#what-about-exceptions)."
   ]
  },
  {
   "cell_type": "markdown",
   "metadata": {},
   "source": [
    "**Quick check** What type of objects can be used as keys to a dictionary, i.e. what property must they have?"
   ]
  },
  {
   "cell_type": "markdown",
   "metadata": {},
   "source": [
    "- Keys must be immutable "
   ]
  },
  {
   "cell_type": "markdown",
   "metadata": {
    "is_question": true,
    "problem": "Exercise 11.6"
   },
   "source": [
    "### Exercise 6 (modified)\n",
    "\n",
    "Create a memoized version of your Levenshtein distance function from Day 7. What kind of performance change do you see?\n",
    "\n",
    "Optional: If you'd like to get some quantitative results, you could check out the [timeit](https://docs.python.org/2/library/timeit.html) module\n",
    "\n",
    "Note: You can also study Fibonacci here if you prefer."
   ]
  },
  {
   "cell_type": "code",
   "execution_count": 13,
   "metadata": {
    "collapsed": false,
    "solution": "Exercise 11.6"
   },
   "outputs": [],
   "source": [
    "def levenshtein_distance(s1,s2,known={}):\n",
    "    \"\"\"\n",
    "    Returns the Levenshtein distance between two strings, calculated\n",
    "    recursively.\n",
    "    \n",
    "    >>> levenshtein_distance(\"\",\"apple\")\n",
    "    5\n",
    "    >>> levenshtein_distance(\"\",\"\")\n",
    "    0\n",
    "    >>> levenshtein_distance(\"apple\",\"apple\")\n",
    "    0\n",
    "    >>> levenshtein_distance(\"apple\",\"opple\")\n",
    "    1\n",
    "    >>> levenshtein_distance(\"mitten\",\"smitten\")\n",
    "    1\n",
    "    \"\"\"\n",
    "    if (s1,s2) in known:\n",
    "        return known[(s1,s2)]\n",
    "    #Base case: empty strings\n",
    "    #If a string becomes empty, the minimum number of modifications\n",
    "    #is to add all the characters of the other. Since one addition\n",
    "    #is one change, the cost is the length of the other string\n",
    "    if len(s1) == 0:\n",
    "        return len(s2)\n",
    "    elif len(s2) == 0:\n",
    "        return len(s1)\n",
    "    \n",
    "    #Test if last characters of strings match\n",
    "    #If they do match, the cost to make the last characters match is 0\n",
    "    #Otherwise it's 1\n",
    "    if s1[-1] == s2[-1]:\n",
    "        cost = 0\n",
    "    else:\n",
    "        cost = 1\n",
    "    \n",
    "    \n",
    "    #Calculate the cost for each string that is a product of\n",
    "    #Removing a character from s1\n",
    "    #Adding a character from s2 (same as inserting a character ro s1)\n",
    "    #Or changing the two last characters to be the same\n",
    "    known[(s1,s2)] = min(\n",
    "              levenshtein_distance(s1[:-1],s2,     known)+1,\n",
    "              levenshtein_distance(s1,     s2[:-1],known)+1,\n",
    "              levenshtein_distance(s1[:-1],s2[:-1],known)+cost\n",
    "              )\n",
    "    return known[(s1,s2)]\n",
    "\n",
    "import doctest\n",
    "doctest.run_docstring_examples(levenshtein_distance, globals())"
   ]
  },
  {
   "cell_type": "markdown",
   "metadata": {},
   "source": [
    "## [Chapter 12](http://www.greenteapress.com/thinkpython/html/thinkpython013.html)\n",
    "\n",
    "**Quick check:** In about one sentence using your own words, what is a tuple?"
   ]
  },
  {
   "cell_type": "markdown",
   "metadata": {},
   "source": [
    "- They're pretty much immutable lists "
   ]
  },
  {
   "cell_type": "code",
   "execution_count": 1,
   "metadata": {
    "collapsed": false
   },
   "outputs": [
    {
     "name": "stdout",
     "output_type": "stream",
     "text": [
      "15 12\n"
     ]
    }
   ],
   "source": [
    "#You can assign stuff with tuples\n",
    "a = 12\n",
    "b = 15\n",
    "a, b = b, a #Both of these count as tuples\n",
    "print a, b"
   ]
  },
  {
   "cell_type": "markdown",
   "metadata": {
    "is_question": true,
    "problem": "Exercise 12.1"
   },
   "source": [
    "### Exercise 1  \n",
    "\n",
    "Many of the built-in functions use variable-length argument tuples. For example, `max` and `min` can take any number of arguments:\n",
    "\n",
    "```\n",
    ">>> max(1,2,3)\n",
    "3\n",
    "```\n",
    "\n",
    "But `sum` does not.\n",
    "\n",
    "```\n",
    ">>> sum(1,2,3)\n",
    "TypeError: sum expected at most 2 arguments, got 3\n",
    "```\n",
    "\n",
    "Write a function called ```sumall``` that takes any number of arguments and returns their sum. \n",
    "\n",
    "Write unit tests for your function. Do I actually need to keep saying this? Let's assume it's always a good idea :)"
   ]
  },
  {
   "cell_type": "code",
   "execution_count": 5,
   "metadata": {
    "collapsed": false,
    "solution": "Exercise 12.1"
   },
   "outputs": [],
   "source": [
    "def sumall(*args):\n",
    "    \"\"\"\n",
    "    Takes in any number of arguments, returns their sum\n",
    "    \n",
    "    >>> sumall(1)\n",
    "    1\n",
    "    >>> sumall(1,2)\n",
    "    3\n",
    "    >>> sumall(1,1,1,1,1,1,1,1,1,1.0)\n",
    "    10.0\n",
    "    \"\"\"\n",
    "    total = 0\n",
    "    for num in args:\n",
    "        total += num\n",
    "    return total\n",
    "\n",
    "import doctest\n",
    "doctest.run_docstring_examples(sumall, globals())"
   ]
  },
  {
   "cell_type": "markdown",
   "metadata": {},
   "source": [
    "If you're interested in more flexible ways to pass arguments to functions, check out the [Python tutorial](https://docs.python.org/2/tutorial/controlflow.html#more-on-defining-functions). For instance, you can also use keyword arguments, which are collected into a dictionary just like `*` gathers variable numbers of positional arguments into a tuple.\n",
    "\n",
    "This pattern is very common for defining functions with complex optional behaviors in Python, and you will often see definitions like:\n",
    "\n",
    "```\n",
    "def my_func(required_argument1, *arguments, **keywords):\n",
    "    ...\n",
    "```"
   ]
  },
  {
   "cell_type": "code",
   "execution_count": 8,
   "metadata": {
    "collapsed": false
   },
   "outputs": [
    {
     "name": "stdout",
     "output_type": "stream",
     "text": [
      "[('a', 12), ('b', 65), ('c', 43)]\n",
      "[('a', 12, 'd'), ('b', 65, 'e'), ('c', 43, 'f')]\n",
      "a 12\n",
      "b 65\n",
      "c 43\n"
     ]
    }
   ],
   "source": [
    "#zip is a useful function\n",
    "a = 'abc'\n",
    "b = [12,65,43]\n",
    "print zip(a,b)\n",
    "#it returns a list of tuples, each having one element from each thing\n",
    "\n",
    "#if things are different lengths, they become the length of the shortest\n",
    "c = \"defg\"\n",
    "print zip(a,b,c)\n",
    "\n",
    "#for loops also do fun things with tuples\n",
    "for x, y in zip(a,b):\n",
    "    print x, y"
   ]
  },
  {
   "cell_type": "markdown",
   "metadata": {
    "is_question": true,
    "problem": "Exercise 12 sort"
   },
   "source": [
    "### Exercise\n",
    "\n",
    "Write a function `sort_by_last_letter` that takes a list of words and returns a new list with the words sorted alphabetically by the _last letter_ in the word. Hint: use the **Decorate, Sort, Undecorate** pattern. Write unit tests for your function."
   ]
  },
  {
   "cell_type": "code",
   "execution_count": 12,
   "metadata": {
    "collapsed": false,
    "solution": "Exercise 12 sort"
   },
   "outputs": [],
   "source": [
    "def sort_by_last_letter(words):\n",
    "    \"\"\"\n",
    "    Takes in a list of words, returns the list sorted by last letter.\n",
    "    \n",
    "    >>> sort_by_last_letter([\"apple\",\"banana\"])\n",
    "    ['banana', 'apple']\n",
    "    \"\"\"\n",
    "    t = []\n",
    "    for word in words:\n",
    "        t.append((word[-1],word))\n",
    "    \n",
    "    #tuples are sorted based on the first value of their first sequence\n",
    "    t.sort()\n",
    "    \n",
    "    res = []\n",
    "    for last_letter, word in t:\n",
    "        res.append(word)\n",
    "    return res\n",
    "\n",
    "import doctest\n",
    "doctest.run_docstring_examples(sort_by_last_letter, globals())\n",
    "    "
   ]
  },
  {
   "cell_type": "markdown",
   "metadata": {},
   "source": [
    "**Quick check** Give an example of when you might use each sequence type:\n",
    "\n",
    "- tuple\n",
    "\n",
    "- list\n",
    "\n",
    "- string"
   ]
  },
  {
   "cell_type": "markdown",
   "metadata": {},
   "source": [
    "- Tuple: when you want multiple pieces of info for keys in a dictionary\n",
    "- List: when you need entries in a certain order, or you need to change the order\n",
    "- String: generally whenever you need to store words? There are some edge cases where other sequence types are better, but for a single word a string generally seems the best option"
   ]
  },
  {
   "cell_type": "markdown",
   "metadata": {
    "is_question": true,
    "problem": "Exercise 12.3"
   },
   "source": [
    "### Exercise 3  \n",
    "\n",
    "Write a function called `most_frequent` that takes a string and prints the letters in decreasing order of frequency. Find text samples from several different languages and see how letter frequency varies between languages. Compare your results with the tables at http://en.wikipedia.org/wiki/Letter_frequencies. \n",
    "\n",
    "Allen's solution (try it on your own first): http://thinkpython.com/code/most_frequent.py. "
   ]
  },
  {
   "cell_type": "code",
   "execution_count": 2,
   "metadata": {
    "collapsed": false,
    "solution": "Exercise 12.3"
   },
   "outputs": [
    {
     "name": "stdout",
     "output_type": "stream",
     "text": [
      "e\n",
      "t\n",
      "a\n",
      "s\n",
      "i\n",
      "o\n",
      "h\n",
      "l\n",
      "n\n",
      "r\n",
      "d\n",
      "g\n",
      "m\n",
      "w\n",
      "v\n",
      "u\n",
      "y\n",
      "\n",
      "a\n",
      "l\n",
      "s\n",
      "e\n",
      "u\n",
      "i\n",
      "�\n",
      "n\n",
      "r\n",
      "g\n",
      "�\n",
      "d\n",
      "�\n",
      "b\n",
      "o\n",
      "q\n",
      "p\n",
      "t\n",
      "v\n",
      "�\n",
      "�\n",
      "c\n",
      "m\n",
      "z\n",
      "\n",
      "e\n",
      "i\n",
      "n\n",
      "t\n",
      "s\n",
      "r\n",
      "g\n",
      "l\n",
      "w\n",
      "b\n",
      "z\n",
      "�\n",
      "a\n",
      "c\n",
      "d\n",
      "f\n",
      "h\n",
      "o\n",
      "u\n",
      "�\n",
      "�\n",
      "m\n"
     ]
    }
   ],
   "source": [
    "import string\n",
    "def tuples_histogram(s):\n",
    "    \"\"\"\n",
    "    Takes in a string s, returns the items of a dictionary whose keys are \n",
    "    the letters that appear in s, and whose values are the frequency of \n",
    "    those letters, as a list of tuples\n",
    "    \n",
    "    Strips punctuation and spaces. All letters made lowercase\n",
    "    \n",
    "    Doctests are hard because dictionaries are random. But let's try this\n",
    "    >>> better_histogram('aaaa')['a']\n",
    "    ('a',4)\n",
    "    >>> better_histogram('\"a a .,. a a!>??!.')\n",
    "    ('a',4)\n",
    "    \"\"\"\n",
    "    #case correction\n",
    "    s = s.lower()\n",
    "    #strip away all punctuation and spaces\n",
    "    exclude = set(string.punctuation)\n",
    "    exclude.add(' ')\n",
    "    s = ''.join(ch for ch in s if ch not in exclude)\n",
    "    d = dict()\n",
    "    for letter in s:\n",
    "        d[letter] = d.get(letter,0) + 1\n",
    "    return d.items()\n",
    "\n",
    "def letter_frequency(words):\n",
    "    \"\"\"\n",
    "    Takes in a string, prints the frequency of each letter in descending order\n",
    "    \n",
    "    >>> letter_frequency(\"abbccc\")\n",
    "    c\n",
    "    b\n",
    "    a\n",
    "    >>> letter_frequency(\"a,b---?!b^^^^cc*c\")\n",
    "    c\n",
    "    b\n",
    "    a\n",
    "    \"\"\"\n",
    "    letter_freqs = tuples_histogram(words)\n",
    "    letter_freqs.sort(key = lambda letter: letter[1], reverse = True)\n",
    "    for letter, freq in letter_freqs:\n",
    "        #print letter, freq\n",
    "        #oops, I needed to make it only print the letter\n",
    "        print letter\n",
    "    \n",
    "\n",
    "import doctest\n",
    "doctest.run_docstring_examples(letter_frequency, globals())\n",
    "letter_frequency(\"What is the longest English word, that remains a valid English word, as you remove its letters one at a time?\")\n",
    "print\n",
    "letter_frequency(\"¿Cuál es la palabra más larga Inglés, que sigue siendo una palabra válida Inglés, al quitarlos de sus letras una a la vez?\")\n",
    "print\n",
    "letter_frequency(\"Was ist der längste englische Wort, die eine gültige englische Wort bleibt, wie man seine Briefe ein zu einer Zeit zu entfernen?\")\n",
    "#e, t, and a are the three most common letters in English, so that checks out\n",
    "#for Spanish it's e, a, o, s. 3/4 are there, but none are in the right places\n",
    "#eh, it's a short sample\n",
    "#For German, it's e, n, s, r. They're in the right relative order, but\n",
    "#other letters crept up. Again, small sentence."
   ]
  },
  {
   "cell_type": "markdown",
   "metadata": {
    "is_question": true,
    "problem": "Exercise 12.6"
   },
   "source": [
    "### Challenge: Exercise 6   (optional)\n",
    "\n",
    "From a [Car Talk Puzzler](http://www.cartalk.com/content/puzzlers):\n",
    "\n",
    "What is the longest English word, that remains a valid English word, as you remove its letters one at a time?\n",
    "\n",
    "Now, letters can be removed from either end, or the middle, but you can’t rearrange any of the letters. Every time you drop a letter, you wind up with another English word. If you do that, you’re eventually going to wind up with one letter and that too is going to be an English word—one that’s found in the dictionary. I want to know what’s the longest word and how many letters does it have?\n",
    "\n",
    "I’m going to give you a little modest example: Sprite. Ok? You start off with sprite, you take a letter off, one from the interior of the word, take the r away, and we’re left with the word spite, then we take the e off the end, we’re left with spit, we take the s off, we’re left with pit, it, and I. \n",
    "\n",
    "Write a program to find all words that can be reduced in this way, and then find the longest one.\n",
    "\n",
    "This exercise is a little more challenging than most, so here are some suggestions:\n",
    "\n",
    "- You might want to write a function that takes a word and computes a list of all the words that can be formed by removing one letter. These are the “children” of the word.\n",
    "- Recursively, a word is reducible if any of its children are reducible. As a base case, you can consider the empty string reducible.\n",
    "- The word list from [Chapter 9.1](http://www.greenteapress.com/thinkpython/html/thinkpython010.html) Exercise 1 doesn’t contain single letter words. So you might want to add “I”, “a”, and the empty string.\n",
    "- To improve the performance of your program, you might want to memoize the words that are known to be reducible.\n",
    "\n",
    "Allen's solution: http://thinkpython.com/code/reducible.py."
   ]
  },
  {
   "cell_type": "code",
   "execution_count": null,
   "metadata": {
    "collapsed": true,
    "solution": "Exercise 12.6"
   },
   "outputs": [],
   "source": []
  },
  {
   "cell_type": "markdown",
   "metadata": {
    "is_question": true,
    "problem": "Feedback"
   },
   "source": [
    "## Reading Journal feedback\n",
    "\n",
    "Have any comments on this Reading Journal? Feel free to leave them below and we'll read them when you submit your journal entry. This could include suggestions to improve the exercises, topics you'd like to see covered in class next time, or other feedback.\n",
    "\n",
    "If you have Python questions or run into problems while completing the reading, you should post them to Piazza instead so you can get a quick response before your journal is submitted."
   ]
  },
  {
   "cell_type": "markdown",
   "metadata": {
    "feedback_response": true,
    "solution": "Feedback"
   },
   "source": [
    "It'd be nice if the website had a page of useful things that are easy to forget- like the commands to run docstrings. And the interesting stuff that gets posted to Piazza and then buried as time goes on, like the post Oliver made about the program that runs your code every time you save it. That would be super useful.\n"
   ]
  }
 ],
 "metadata": {
  "celltoolbar": "Edit Metadata",
  "kernelspec": {
   "display_name": "Python 2",
   "language": "python",
   "name": "python2"
  },
  "language_info": {
   "codemirror_mode": {
    "name": "ipython",
    "version": 2
   },
   "file_extension": ".py",
   "mimetype": "text/x-python",
   "name": "python",
   "nbconvert_exporter": "python",
   "pygments_lexer": "ipython2",
   "version": "2.7.11"
  }
 },
 "nbformat": 4,
 "nbformat_minor": 0
}
