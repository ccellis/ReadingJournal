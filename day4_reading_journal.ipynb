{
 "cells": [
  {
   "cell_type": "markdown",
   "metadata": {},
   "source": [
    "# Day 4 Reading Journal\n",
    "\n",
    "This journal includes several required exercises, but it is meant to encourage active reading more generally.  You should use the journal to take detailed notes, catalog questions, and explore the content from Think Python deeply.\n",
    "\n",
    "Reading: Think Python Chapter 10\n",
    "\n",
    "**Due: Thursday, February 4 at 12 noon**\n",
    "\n"
   ]
  },
  {
   "cell_type": "markdown",
   "metadata": {},
   "source": [
    "## [Chapter 10](http://www.greenteapress.com/thinkpython/html/thinkpython011.html)\n",
    "\n",
    "You may want to review [state diagrams in Chapter 2](http://www.greenteapress.com/thinkpython/html/thinkpython003.html#toc13). [Python Tutor](http://pythontutor.com/) is also helpful for visualizing the state of your program.\n",
    "\n"
   ]
  },
  {
   "cell_type": "markdown",
   "metadata": {},
   "source": [
    "### Map, Filter, and Reduce\n",
    "- Map: apply a function to every element of a list\n",
    "- Filter: selects some elements of a list and filters out others\n",
    "- Reduce: combines some elements into a single value\n",
    "\n",
    "\n",
    "- Most list operations are combinations of these three actions"
   ]
  },
  {
   "cell_type": "markdown",
   "metadata": {},
   "source": [
    "### Exercise 4  \n",
    "Write a function called `middle` that takes a list and returns a new list that contains all but the first and last elements. So `middle([1,2,3,4])` should return `[2,3]`."
   ]
  },
  {
   "cell_type": "code",
   "execution_count": 4,
   "metadata": {
    "collapsed": false
   },
   "outputs": [],
   "source": [
    "def middle(L):\n",
    "    \"\"\"\n",
    "    Takes in a list L and returns a copy of L with the first and\n",
    "    last elements removed\n",
    "    \n",
    "    >>> middle([1])\n",
    "    []\n",
    "    >>> middle(['a','b'])\n",
    "    []\n",
    "    >>> middle([1,2,3,4])\n",
    "    [2, 3]\n",
    "    \"\"\"\n",
    "    if len(L) < 3:\n",
    "        return []\n",
    "    else:\n",
    "        return L[1:-1]\n",
    "\n",
    "import doctest\n",
    "doctest.run_docstring_examples(middle, globals())"
   ]
  },
  {
   "cell_type": "markdown",
   "metadata": {},
   "source": [
    "### Exercise 5  \n",
    "Write a function called `chop` that takes a list, modifies it by removing the first and last elements, and returns `None`.\n",
    "\n",
    "What is the difference between `middle` and `chop`? Sketch out the program state or take a look at each in Python Tutor."
   ]
  },
  {
   "cell_type": "code",
   "execution_count": 1,
   "metadata": {
    "collapsed": false
   },
   "outputs": [
    {
     "name": "stdout",
     "output_type": "stream",
     "text": [
      "[1, 2, 3, 4, 5]\n",
      "[2, 3, 4]\n"
     ]
    }
   ],
   "source": [
    "def chop(L):\n",
    "    \"\"\"\n",
    "    Takes in a list L and removes its first and last elements\n",
    "    \"\"\"\n",
    "    del L[0]\n",
    "    if len(L) > 0:\n",
    "        del L[-1]\n",
    "        \n",
    "L = [1,2,3,4,5]\n",
    "print L\n",
    "chop(L)\n",
    "print L\n",
    "#This function actually modifies L, removing its first and last elements\n",
    "#Middle returns a different list, and leaves L alone"
   ]
  },
  {
   "cell_type": "code",
   "execution_count": 8,
   "metadata": {
    "collapsed": false
   },
   "outputs": [
    {
     "name": "stdout",
     "output_type": "stream",
     "text": [
      "['o', 'n', 'o', 'm', 'o', 't', 'o', 'p', 'e', 'i', 'a']\n"
     ]
    }
   ],
   "source": [
    "#You can split a string into a list of characters using list(S)\n",
    "S = 'onomotopeia'\n",
    "print list(S)"
   ]
  },
  {
   "cell_type": "code",
   "execution_count": 17,
   "metadata": {
    "collapsed": false
   },
   "outputs": [
    {
     "name": "stdout",
     "output_type": "stream",
     "text": [
      "[\"Let's\", 'do', 'some', 'splitting']\n",
      "Let's do some splitting\n"
     ]
    }
   ],
   "source": [
    "#Split and join are interesting\n",
    "#Split takes in a delimiter to split the string\n",
    "#You call it on the string\n",
    "S = \"Let's do some splitting\"\n",
    "S = S.split()\n",
    "print S\n",
    "#With join, you need to call it on the delimeter\n",
    "#Pass it the list of strings to join\n",
    "delimeter = ' '\n",
    "S = delimeter.join(S)\n",
    "print S"
   ]
  },
  {
   "cell_type": "markdown",
   "metadata": {},
   "source": [
    "- Be careful about which operations make new lists and which ones modify existing lists"
   ]
  },
  {
   "cell_type": "markdown",
   "metadata": {},
   "source": [
    "### Exercise 7  \n",
    "Two words are anagrams if you can rearrange the letters from one to spell the other. Write a function called `is_anagram` that takes two strings and returns `True` if they are anagrams."
   ]
  },
  {
   "cell_type": "code",
   "execution_count": 11,
   "metadata": {
    "collapsed": false
   },
   "outputs": [],
   "source": [
    "def is_anagram(s1,s2):\n",
    "    \"\"\"\n",
    "    Takes in two strings, \"s1\" and \"s2\", and returns\n",
    "    True if they're anagrams (one can be rearranged into the other),\n",
    "    and False if they're not\n",
    "    \n",
    "    >>> is_anagram('ab','abc')\n",
    "    False\n",
    "    >>> is_anagram('read','dear')\n",
    "    True\n",
    "    >>> is_anagram('reed','dear')\n",
    "    False\n",
    "    \"\"\"\n",
    "    if len(s1) != len(s2):\n",
    "        return False\n",
    "    else:\n",
    "        s1 = list(s1)\n",
    "        s2 = list(s2)\n",
    "        s1.sort()\n",
    "        s2.sort()\n",
    "        '''\n",
    "        for i in range(len(s1)):\n",
    "            if s1[i] != s2[i]:\n",
    "                return False\n",
    "        return True\n",
    "        '''\n",
    "        if s1 == s2:\n",
    "            return True\n",
    "        return False\n",
    "    \n",
    "import doctest\n",
    "doctest.run_docstring_examples(is_anagram, globals())"
   ]
  },
  {
   "cell_type": "markdown",
   "metadata": {},
   "source": [
    "### Exercise 8  \n",
    "The (so-called) Birthday Paradox:\n",
    "1. Write a function called `has_duplicates` that takes a list and returns `True` if there is any element that appears more than once. It should not modify the original list.\n",
    "2. If there are 23 students in your class, what are the chances that two of you have the same birthday? You can estimate this probability by generating random samples of 23 birthdays and checking for matches. Hint: you can generate random birthdays with the randint function in the [random module](https://docs.python.org/2/library/random.html).\n",
    "\n",
    "You can read about this problem at http://en.wikipedia.org/wiki/Birthday_paradox, and you can download Allen's solution from http://thinkpython.com/code/birthday.py."
   ]
  },
  {
   "cell_type": "code",
   "execution_count": 10,
   "metadata": {
    "collapsed": false
   },
   "outputs": [
    {
     "name": "stdout",
     "output_type": "stream",
     "text": [
      "0.5086\n"
     ]
    }
   ],
   "source": [
    "def has_duplicates(L):\n",
    "    \"\"\"\n",
    "    Takes in a list L, and returns True if any of the elements\n",
    "    appear more than once\n",
    "    \n",
    "    >>> has_duplicates([1])\n",
    "    False\n",
    "    >>> has_duplicates([1,1,1])\n",
    "    True\n",
    "    >>> has_duplicates([1,2,3,4,5,6,7,8,8])\n",
    "    True\n",
    "    >>> has_duplicates([1,2,3,4,5])\n",
    "    False\n",
    "    >>> has_duplicates([\"cow\",\"chicken\",\"pig\",\"cow\"])\n",
    "    True\n",
    "    \"\"\"\n",
    "    for item in L:\n",
    "        if L.count(item) > 1:\n",
    "            return True\n",
    "    return False\n",
    "\n",
    "from random import randint\n",
    "def birthday_chance(trials):\n",
    "    successes = 0.0\n",
    "    for i in range(trials):\n",
    "        birthdays = [randint(1,365) for i in range(23)]\n",
    "        if has_duplicates(birthdays):\n",
    "            successes += 1\n",
    "    print successes/trials\n",
    "\n",
    "birthday_chance(10000)\n",
    "#The chance appears to be 50%"
   ]
  },
  {
   "cell_type": "markdown",
   "metadata": {},
   "source": [
    "### Challenge: Exercise 11 (optional)\n",
    "\n",
    "You should read [Chapter 9.1](http://www.greenteapress.com/thinkpython/html/thinkpython010.html) and do Exercise 1 first.\n",
    "\n",
    "To check whether a word is in the word list, you could use the `in` operator, but it would be relatively slow because it searches through the words in order (try it).\n",
    "\n",
    "Because the words are in alphabetical order, we can speed things up with a bisection search (also known as binary search), which is similar to what you do when you look a word up in the dictionary. You start in the middle and check to see whether the word you are looking for comes before the word in the middle of the list. If so, then you search the first half of the list the same way. Otherwise you search the second half.\n",
    "\n",
    "Either way, you cut the remaining search space in half. If the word list has 113,809 words, it will take about 17 steps to find the word or conclude that it’s not there.\n",
    "\n",
    "Write a function called `bisect` that takes a sorted list and a target value and returns the index of the value in the list, if it’s there, or `None` if it’s not.\n",
    "\n",
    "Or you could read the documentation of the `bisect` module and use that! Solution: http://thinkpython.com/code/inlist.py."
   ]
  },
  {
   "cell_type": "code",
   "execution_count": null,
   "metadata": {
    "collapsed": true
   },
   "outputs": [],
   "source": []
  },
  {
   "cell_type": "markdown",
   "metadata": {},
   "source": [
    "## Reading Journal feedback\n",
    "\n",
    "Have any comments on this Reading Journal? Feel free to leave them below and we'll read them when you submit your journal entry. This could include suggestions to improve the exercises, topics you'd like to see covered in class next time, or other feedback.\n",
    "\n",
    "If you have Python questions or run into problems while completing the reading, you should post them to Piazza instead so you can get a quick response before your journal is submitted."
   ]
  },
  {
   "cell_type": "markdown",
   "metadata": {},
   "source": [
    " "
   ]
  }
 ],
 "metadata": {
  "kernelspec": {
   "display_name": "Python 2",
   "language": "python",
   "name": "python2"
  },
  "language_info": {
   "codemirror_mode": {
    "name": "ipython",
    "version": 2
   },
   "file_extension": ".py",
   "mimetype": "text/x-python",
   "name": "python",
   "nbconvert_exporter": "python",
   "pygments_lexer": "ipython2",
   "version": "2.7.11"
  }
 },
 "nbformat": 4,
 "nbformat_minor": 0
}
