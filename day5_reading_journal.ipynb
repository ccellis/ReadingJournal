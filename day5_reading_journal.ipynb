{
 "cells": [
  {
   "cell_type": "markdown",
   "metadata": {},
   "source": [
    "# Day 5 Reading Journal\n",
    "\n",
    "This journal includes several required exercises, but it is meant to encourage active reading more generally.  You should use the journal to take detailed notes, catalog questions, and explore the content from Think Python deeply.\n",
    "\n",
    "Reading: Think Python Chapter 4\n",
    "\n",
    "**Due: Monday, February 8 at 12 noon**\n",
    "\n"
   ]
  },
  {
   "cell_type": "markdown",
   "metadata": {},
   "source": [
    "## [Chapter 4](http://www.greenteapress.com/thinkpython/html/thinkpython005.html)\n",
    "\n",
    "In today's reading, you'll be exploring TurtleWorld!\n",
    "TurtleWorld is part of the [swampy](http://www.greenteapress.com/thinkpython/swampy/) package, written by Allen Downey.\n",
    "As part of the [Get Set](https://sites.google.com/site/sd16spring/home/assignments-and-mini-projects/setup-your-environment) assignment, you installed the swampy package using the pip Python package management tool. If you somehow missed that step or you see errors when you try to import TurtleWorld, you can install swampy by running:\n",
    "\n",
    "```\n",
    "sudo pip install swampy\n",
    "```\n",
    "\n",
    "at the command line.\n",
    "\n",
    "### Turtle wrangling\n",
    "\n",
    "You can always run your code as separate Python scripts, but here are a few tips for mixing TurtleWorld with Jupyter notebook:\n",
    "\n",
    " - TurtleWorld will appear in a new GUI window, rather than inline in the notebook like typical results do\n",
    " - You will not be able to close the TurtleWorld window unless you run `wait_for_user()` as the last line of your code.\n",
    " - Jupyter notebook works like one big Python script, even though it is broken up into sections. This means that you could create a Turtle in one cell, move it in a later cell, and then `wait_for_user()` in yet another. Despite this, it might be easier to treat each cell in this assignment as a separate script, creating a new world at the beginning and destroying it at the end of each."
   ]
  },
  {
   "cell_type": "markdown",
   "metadata": {},
   "source": [
    "### Get started\n",
    "\n",
    "Run the code in the cell below and make sure everything works. You should see brave Alice spring into the world and run forward. You can close the window when you're done by clicking on the 'X'. If this simple test doesn't work, check your swampy install (especially if you get an `ImportError`) and ask for help."
   ]
  },
  {
   "cell_type": "code",
   "execution_count": 2,
   "metadata": {
    "collapsed": true
   },
   "outputs": [],
   "source": [
    "from swampy.TurtleWorld import *\n",
    "\n",
    "def square(t):\n",
    "    #Takes in a turtle \"t\", uses that turtle to draw a square\n",
    "    for i in range(4):\n",
    "        fd(t,50)\n",
    "        lt(t)\n",
    "\n",
    "# Create the world, and a turtle to put in it\n",
    "world = TurtleWorld()\n",
    "alice = Turtle()\n",
    "\n",
    "# Get moving, turtle!\n",
    "fd(alice, 50)\n",
    "\n",
    "# Wait for the user to close the window\n",
    "wait_for_user()"
   ]
  },
  {
   "cell_type": "markdown",
   "metadata": {
    "is_question": true,
    "problem": "Section 4.3"
   },
   "source": [
    "### Section 4.3 exercises\n",
    "Work through exercises 1-5 in Section 4.3, creating the `square`, `polygon`, `circle`, and `arc` functions. You can reference Allen's solutions, but please try the problems on your own first."
   ]
  },
  {
   "cell_type": "code",
   "execution_count": 28,
   "metadata": {
    "collapsed": false,
    "solution": "Section 4.3"
   },
   "outputs": [],
   "source": [
    "from swampy.TurtleWorld import *\n",
    "from math import pi\n",
    "\n",
    "def square(t, l):\n",
    "    #Takes in a turtle \"t\" and an int \"l\" \n",
    "    # uses that turtle to draw a square of side length l\n",
    "    for i in range(4):\n",
    "        fd(t,l)\n",
    "        lt(t)\n",
    "\n",
    "def polygon(t, l, n):\n",
    "    # Takes in a turtle \"t\", an int \"l\", and an int \"n\"\n",
    "    # Uses t to draw an n-sided polygon with side length l\n",
    "    \n",
    "    turn_angle = 360.0/n\n",
    "    for i in range(n):\n",
    "        fd(t,l)\n",
    "        lt(t,turn_angle)\n",
    "\n",
    "def circle(t, r):\n",
    "    #Takes in a turtle \"t\" and a radius \"r\"\n",
    "    #Uses t to draw a circle of radius r\n",
    "    circumference = 2*pi*r\n",
    "    l = circumference/360.0\n",
    "    polygon(t,l,360.0)\n",
    "    \n",
    "def arc(t, r, angle):\n",
    "    #Takes in a turtle \"t\", a radius \"r\", and an angle\n",
    "    #Uses t to draw an arc with radius r and the specified angle\n",
    "    circumference = 2*pi*r\n",
    "    l = circumference/360.0\n",
    "    for i in range(int(angle)):\n",
    "        fd(t,l)\n",
    "        lt(t,1)\n",
    "    \n",
    "# Create the world!\n",
    "world = TurtleWorld()\n",
    "bob = Turtle()\n",
    "bob.delay = 0.01\n",
    "\n",
    "# Make bob move\n",
    "arc(bob,100,45)\n",
    "\n",
    "        \n",
    "# Wait for the user to close the window\n",
    "wait_for_user()"
   ]
  },
  {
   "cell_type": "markdown",
   "metadata": {
    "is_question": true,
    "problem": "More fun"
   },
   "source": [
    "### Exercise: More fun with Turtles!\n",
    "Complete at least one of Exercise 2, 3, 4, or 5. If you come up with some cool drawings you'd like to share with the rest of the class, let us know!"
   ]
  },
  {
   "cell_type": "code",
   "execution_count": 105,
   "metadata": {
    "collapsed": false,
    "scrolled": true,
    "solution": "More fun"
   },
   "outputs": [],
   "source": [
    "import math\n",
    "def petal(t,r, theta):\n",
    "    #Takes in a turtle \"t\", radius \"r\", angle \"theta\"\n",
    "    #Draws a petal that is an arc of angle theta and radius r\n",
    "    \n",
    "    #rt(t,theta/2.0)\n",
    "    arc(t,r,theta)\n",
    "    lt(t,180-theta)\n",
    "    arc(t,r,theta)\n",
    "    lt(t,180-theta) #This was in Allen's solution, it works better than mine\n",
    "    #rt(t,theta/2.0+180)\n",
    "    \n",
    "    #My solution was to have the turtle turn away from its initial facing,\n",
    "    #draw the petal, then return to its initial facing. That was excessive.\n",
    "    #Allen's just has the turtle draw the petal then turn back to its\n",
    "    #initial facing (which is a simpler feat)\n",
    "    \n",
    "    #I also originally had petal() take in the distance from the center\n",
    "    #of the flower to the outer circle, so I could calculate theta,\n",
    "    #but it's much easier to just take theta as an input\n",
    "    \n",
    "    #Plus my original solution had some issues with higher petal counts\n",
    "    \n",
    "def flower(t, r, theta, n):\n",
    "    #Takes in a turtle \"t\", radius \"r\", angle \"theta\", and number \"n\"\n",
    "    #Draws a flower with n petals, of radius r, subtended by angle theta\n",
    "    for i in range(n):\n",
    "        petal(t,r,theta)\n",
    "        lt(t,360.0/n)\n",
    "    \n",
    "world = TurtleWorld()\n",
    "bob = Turtle()\n",
    "bob.delay = 0.0001\n",
    "\n",
    "flower(bob,75,90,15)\n",
    "\n",
    "wait_for_user()"
   ]
  },
  {
   "cell_type": "markdown",
   "metadata": {},
   "source": [
    "##### Reading Journal feedback\n",
    "\n",
    "Have any comments on this Reading Journal? Feel free to leave them below and we'll read them when you submit your journal entry. This could include suggestions to improve the exercises, topics you'd like to see covered in class next time, or other feedback.\n",
    "\n",
    "If you have Python questions or run into problems while completing the reading, you should post them to Piazza instead so you can get a quick response before your journal is submitted."
   ]
  },
  {
   "cell_type": "markdown",
   "metadata": {},
   "source": [
    " "
   ]
  }
 ],
 "metadata": {
  "kernelspec": {
   "display_name": "Python 2",
   "language": "python",
   "name": "python2"
  },
  "language_info": {
   "codemirror_mode": {
    "name": "ipython",
    "version": 2
   },
   "file_extension": ".py",
   "mimetype": "text/x-python",
   "name": "python",
   "nbconvert_exporter": "python",
   "pygments_lexer": "ipython2",
   "version": "2.7.11"
  }
 },
 "nbformat": 4,
 "nbformat_minor": 0
}
